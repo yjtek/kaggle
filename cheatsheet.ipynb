{
 "cells": [
  {
   "cell_type": "code",
   "execution_count": null,
   "metadata": {},
   "outputs": [],
   "source": [
    "# kaggle competitions {list, files, download, submit, submissions, leaderboard}\n",
    "# kaggle datasets {list, files, download, create, version, init}\n",
    "# kaggle kernels {list, init, push, pull, output, status}\n",
    "# kaggle config {view, set, unset}"
   ]
  },
  {
   "cell_type": "code",
   "execution_count": null,
   "metadata": {},
   "outputs": [],
   "source": [
    "# kaggle competitions submit -c m5-forecasting-accuracy -f submission.csv -m \"Message\""
   ]
  }
 ],
 "metadata": {
  "language_info": {
   "name": "python"
  },
  "orig_nbformat": 4
 },
 "nbformat": 4,
 "nbformat_minor": 2
}
