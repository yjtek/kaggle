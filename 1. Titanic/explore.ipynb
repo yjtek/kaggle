{
 "cells": [
  {
   "cell_type": "markdown",
   "metadata": {},
   "source": [
    "## Init"
   ]
  },
  {
   "cell_type": "code",
   "execution_count": 1,
   "metadata": {},
   "outputs": [],
   "source": [
    "import numpy as np\n",
    "import polars as pl\n",
    "import pandas as pd\n",
    "import pyarrow as pa"
   ]
  },
  {
   "cell_type": "code",
   "execution_count": 2,
   "metadata": {},
   "outputs": [],
   "source": [
    "DATAPATH = './data'\n",
    "train = pl.read_csv(f'{DATAPATH}/train.csv')\n",
    "test = pl.read_csv(f'{DATAPATH}/test.csv')\n",
    "submission_sample = pl.read_csv(f'{DATAPATH}/gender_submission.csv')"
   ]
  },
  {
   "cell_type": "code",
   "execution_count": 9,
   "metadata": {},
   "outputs": [
    {
     "name": "stdout",
     "output_type": "stream",
     "text": [
      "The autoreload extension is already loaded. To reload it, use:\n",
      "  %reload_ext autoreload\n"
     ]
    }
   ],
   "source": [
    "%load_ext autoreload\n",
    "%autoreload 2\n",
    "\n",
    "pl.Config.set_tbl_formatting(\"UTF8_FULL_CONDENSED\")\n",
    "pl.Config.set_tbl_width_chars(175)\n",
    "pl.Config.set_tbl_cols(12)\n",
    "\n",
    "pd.options.display.max_columns = None"
   ]
  },
  {
   "cell_type": "markdown",
   "metadata": {},
   "source": [
    "## Data Exploration"
   ]
  },
  {
   "cell_type": "code",
   "execution_count": 59,
   "metadata": {},
   "outputs": [],
   "source": [
    "train_explore = train.clone()"
   ]
  },
  {
   "cell_type": "code",
   "execution_count": 63,
   "metadata": {},
   "outputs": [
    {
     "data": {
      "text/html": [
       "<div><style>\n",
       ".dataframe > thead > tr > th,\n",
       ".dataframe > tbody > tr > td {\n",
       "  text-align: right;\n",
       "}\n",
       "</style>\n",
       "<small>shape: (9, 13)</small><table border=\"1\" class=\"dataframe\"><thead><tr><th>describe</th><th>PassengerId</th><th>Survived</th><th>Pclass</th><th>Name</th><th>Sex</th><th>Age</th><th>SibSp</th><th>Parch</th><th>Ticket</th><th>Fare</th><th>Cabin</th><th>Embarked</th></tr><tr><td>str</td><td>f64</td><td>f64</td><td>f64</td><td>str</td><td>str</td><td>f64</td><td>f64</td><td>f64</td><td>str</td><td>f64</td><td>str</td><td>str</td></tr></thead><tbody><tr><td>&quot;count&quot;</td><td>891.0</td><td>891.0</td><td>891.0</td><td>&quot;891&quot;</td><td>&quot;891&quot;</td><td>891.0</td><td>891.0</td><td>891.0</td><td>&quot;891&quot;</td><td>891.0</td><td>&quot;891&quot;</td><td>&quot;891&quot;</td></tr><tr><td>&quot;null_count&quot;</td><td>0.0</td><td>0.0</td><td>0.0</td><td>&quot;0&quot;</td><td>&quot;0&quot;</td><td>177.0</td><td>0.0</td><td>0.0</td><td>&quot;0&quot;</td><td>0.0</td><td>&quot;687&quot;</td><td>&quot;2&quot;</td></tr><tr><td>&quot;mean&quot;</td><td>446.0</td><td>0.383838</td><td>2.308642</td><td>null</td><td>null</td><td>29.699118</td><td>0.523008</td><td>0.381594</td><td>null</td><td>32.204208</td><td>null</td><td>null</td></tr><tr><td>&quot;std&quot;</td><td>257.353842</td><td>0.486592</td><td>0.836071</td><td>null</td><td>null</td><td>14.526497</td><td>1.102743</td><td>0.806057</td><td>null</td><td>49.693429</td><td>null</td><td>null</td></tr><tr><td>&quot;min&quot;</td><td>1.0</td><td>0.0</td><td>1.0</td><td>&quot;Abbing, Mr. An…</td><td>&quot;female&quot;</td><td>0.42</td><td>0.0</td><td>0.0</td><td>&quot;110152&quot;</td><td>0.0</td><td>&quot;A10&quot;</td><td>&quot;C&quot;</td></tr><tr><td>&quot;25%&quot;</td><td>223.0</td><td>0.0</td><td>2.0</td><td>null</td><td>null</td><td>20.0</td><td>0.0</td><td>0.0</td><td>null</td><td>7.8958</td><td>null</td><td>null</td></tr><tr><td>&quot;50%&quot;</td><td>446.0</td><td>0.0</td><td>3.0</td><td>null</td><td>null</td><td>28.0</td><td>0.0</td><td>0.0</td><td>null</td><td>14.4542</td><td>null</td><td>null</td></tr><tr><td>&quot;75%&quot;</td><td>669.0</td><td>1.0</td><td>3.0</td><td>null</td><td>null</td><td>38.0</td><td>1.0</td><td>0.0</td><td>null</td><td>31.0</td><td>null</td><td>null</td></tr><tr><td>&quot;max&quot;</td><td>891.0</td><td>1.0</td><td>3.0</td><td>&quot;van Melkebeke,…</td><td>&quot;male&quot;</td><td>80.0</td><td>8.0</td><td>6.0</td><td>&quot;WE/P 5735&quot;</td><td>512.3292</td><td>&quot;T&quot;</td><td>&quot;S&quot;</td></tr></tbody></table></div>"
      ],
      "text/plain": [
       "shape: (9, 13)\n",
       "┌────────────┬─────────────┬──────────┬──────────┬───┬───────────┬───────────┬───────┬──────────┐\n",
       "│ describe   ┆ PassengerId ┆ Survived ┆ Pclass   ┆ … ┆ Ticket    ┆ Fare      ┆ Cabin ┆ Embarked │\n",
       "│ ---        ┆ ---         ┆ ---      ┆ ---      ┆   ┆ ---       ┆ ---       ┆ ---   ┆ ---      │\n",
       "│ str        ┆ f64         ┆ f64      ┆ f64      ┆   ┆ str       ┆ f64       ┆ str   ┆ str      │\n",
       "╞════════════╪═════════════╪══════════╪══════════╪═══╪═══════════╪═══════════╪═══════╪══════════╡\n",
       "│ count      ┆ 891.0       ┆ 891.0    ┆ 891.0    ┆ … ┆ 891       ┆ 891.0     ┆ 891   ┆ 891      │\n",
       "│ null_count ┆ 0.0         ┆ 0.0      ┆ 0.0      ┆ … ┆ 0         ┆ 0.0       ┆ 687   ┆ 2        │\n",
       "│ mean       ┆ 446.0       ┆ 0.383838 ┆ 2.308642 ┆ … ┆ null      ┆ 32.204208 ┆ null  ┆ null     │\n",
       "│ std        ┆ 257.353842  ┆ 0.486592 ┆ 0.836071 ┆ … ┆ null      ┆ 49.693429 ┆ null  ┆ null     │\n",
       "│ min        ┆ 1.0         ┆ 0.0      ┆ 1.0      ┆ … ┆ 110152    ┆ 0.0       ┆ A10   ┆ C        │\n",
       "│ 25%        ┆ 223.0       ┆ 0.0      ┆ 2.0      ┆ … ┆ null      ┆ 7.8958    ┆ null  ┆ null     │\n",
       "│ 50%        ┆ 446.0       ┆ 0.0      ┆ 3.0      ┆ … ┆ null      ┆ 14.4542   ┆ null  ┆ null     │\n",
       "│ 75%        ┆ 669.0       ┆ 1.0      ┆ 3.0      ┆ … ┆ null      ┆ 31.0      ┆ null  ┆ null     │\n",
       "│ max        ┆ 891.0       ┆ 1.0      ┆ 3.0      ┆ … ┆ WE/P 5735 ┆ 512.3292  ┆ T     ┆ S        │\n",
       "└────────────┴─────────────┴──────────┴──────────┴───┴───────────┴───────────┴───────┴──────────┘"
      ]
     },
     "execution_count": 63,
     "metadata": {},
     "output_type": "execute_result"
    }
   ],
   "source": [
    "# train_explore.head()\n",
    "train_explore.describe()"
   ]
  },
  {
   "cell_type": "code",
   "execution_count": 234,
   "metadata": {},
   "outputs": [
    {
     "data": {
      "text/html": [
       "<div><style>\n",
       ".dataframe > thead > tr > th,\n",
       ".dataframe > tbody > tr > td {\n",
       "  text-align: right;\n",
       "}\n",
       "</style>\n",
       "<small>shape: (891, 14)</small><table border=\"1\" class=\"dataframe\"><thead><tr><th>PassengerId</th><th>Survived</th><th>Pclass</th><th>Name</th><th>Sex</th><th>Age</th><th>SibSp</th><th>Parch</th><th>Ticket</th><th>Fare</th><th>Cabin</th><th>Embarked</th><th>LastName</th><th>Honorific</th></tr><tr><td>i64</td><td>i64</td><td>i64</td><td>str</td><td>str</td><td>f64</td><td>i64</td><td>i64</td><td>str</td><td>f64</td><td>str</td><td>str</td><td>str</td><td>str</td></tr></thead><tbody><tr><td>1</td><td>0</td><td>3</td><td>&quot;Braund, Mr. Ow…</td><td>&quot;male&quot;</td><td>22.0</td><td>1</td><td>0</td><td>&quot;A/5 21171&quot;</td><td>7.25</td><td>null</td><td>&quot;S&quot;</td><td>&quot;Braund&quot;</td><td>&quot;Mr.&quot;</td></tr><tr><td>2</td><td>1</td><td>1</td><td>&quot;Cumings, Mrs. …</td><td>&quot;female&quot;</td><td>38.0</td><td>1</td><td>0</td><td>&quot;PC 17599&quot;</td><td>71.2833</td><td>&quot;C85&quot;</td><td>&quot;C&quot;</td><td>&quot;Cumings&quot;</td><td>&quot;Mrs.&quot;</td></tr><tr><td>3</td><td>1</td><td>3</td><td>&quot;Heikkinen, Mis…</td><td>&quot;female&quot;</td><td>26.0</td><td>0</td><td>0</td><td>&quot;STON/O2. 31012…</td><td>7.925</td><td>null</td><td>&quot;S&quot;</td><td>&quot;Heikkinen&quot;</td><td>&quot;Miss.&quot;</td></tr><tr><td>4</td><td>1</td><td>1</td><td>&quot;Futrelle, Mrs.…</td><td>&quot;female&quot;</td><td>35.0</td><td>1</td><td>0</td><td>&quot;113803&quot;</td><td>53.1</td><td>&quot;C123&quot;</td><td>&quot;S&quot;</td><td>&quot;Futrelle&quot;</td><td>&quot;Mrs.&quot;</td></tr><tr><td>5</td><td>0</td><td>3</td><td>&quot;Allen, Mr. Wil…</td><td>&quot;male&quot;</td><td>35.0</td><td>0</td><td>0</td><td>&quot;373450&quot;</td><td>8.05</td><td>null</td><td>&quot;S&quot;</td><td>&quot;Allen&quot;</td><td>&quot;Mr.&quot;</td></tr><tr><td>6</td><td>0</td><td>3</td><td>&quot;Moran, Mr. Jam…</td><td>&quot;male&quot;</td><td>null</td><td>0</td><td>0</td><td>&quot;330877&quot;</td><td>8.4583</td><td>null</td><td>&quot;Q&quot;</td><td>&quot;Moran&quot;</td><td>&quot;Mr.&quot;</td></tr><tr><td>7</td><td>0</td><td>1</td><td>&quot;McCarthy, Mr. …</td><td>&quot;male&quot;</td><td>54.0</td><td>0</td><td>0</td><td>&quot;17463&quot;</td><td>51.8625</td><td>&quot;E46&quot;</td><td>&quot;S&quot;</td><td>&quot;McCarthy&quot;</td><td>&quot;Mr.&quot;</td></tr><tr><td>8</td><td>0</td><td>3</td><td>&quot;Palsson, Maste…</td><td>&quot;male&quot;</td><td>2.0</td><td>3</td><td>1</td><td>&quot;349909&quot;</td><td>21.075</td><td>null</td><td>&quot;S&quot;</td><td>&quot;Palsson&quot;</td><td>&quot;Master.&quot;</td></tr><tr><td>9</td><td>1</td><td>3</td><td>&quot;Johnson, Mrs. …</td><td>&quot;female&quot;</td><td>27.0</td><td>0</td><td>2</td><td>&quot;347742&quot;</td><td>11.1333</td><td>null</td><td>&quot;S&quot;</td><td>&quot;Johnson&quot;</td><td>&quot;Mrs.&quot;</td></tr><tr><td>10</td><td>1</td><td>2</td><td>&quot;Nasser, Mrs. N…</td><td>&quot;female&quot;</td><td>14.0</td><td>1</td><td>0</td><td>&quot;237736&quot;</td><td>30.0708</td><td>null</td><td>&quot;C&quot;</td><td>&quot;Nasser&quot;</td><td>&quot;Mrs.&quot;</td></tr><tr><td>11</td><td>1</td><td>3</td><td>&quot;Sandstrom, Mis…</td><td>&quot;female&quot;</td><td>4.0</td><td>1</td><td>1</td><td>&quot;PP 9549&quot;</td><td>16.7</td><td>&quot;G6&quot;</td><td>&quot;S&quot;</td><td>&quot;Sandstrom&quot;</td><td>&quot;Miss.&quot;</td></tr><tr><td>12</td><td>1</td><td>1</td><td>&quot;Bonnell, Miss.…</td><td>&quot;female&quot;</td><td>58.0</td><td>0</td><td>0</td><td>&quot;113783&quot;</td><td>26.55</td><td>&quot;C103&quot;</td><td>&quot;S&quot;</td><td>&quot;Bonnell&quot;</td><td>&quot;Miss.&quot;</td></tr><tr><td>&hellip;</td><td>&hellip;</td><td>&hellip;</td><td>&hellip;</td><td>&hellip;</td><td>&hellip;</td><td>&hellip;</td><td>&hellip;</td><td>&hellip;</td><td>&hellip;</td><td>&hellip;</td><td>&hellip;</td><td>&hellip;</td><td>&hellip;</td></tr><tr><td>880</td><td>1</td><td>1</td><td>&quot;Potter, Mrs. T…</td><td>&quot;female&quot;</td><td>56.0</td><td>0</td><td>1</td><td>&quot;11767&quot;</td><td>83.1583</td><td>&quot;C50&quot;</td><td>&quot;C&quot;</td><td>&quot;Potter&quot;</td><td>&quot;Mrs.&quot;</td></tr><tr><td>881</td><td>1</td><td>2</td><td>&quot;Shelley, Mrs. …</td><td>&quot;female&quot;</td><td>25.0</td><td>0</td><td>1</td><td>&quot;230433&quot;</td><td>26.0</td><td>null</td><td>&quot;S&quot;</td><td>&quot;Shelley&quot;</td><td>&quot;Mrs.&quot;</td></tr><tr><td>882</td><td>0</td><td>3</td><td>&quot;Markun, Mr. Jo…</td><td>&quot;male&quot;</td><td>33.0</td><td>0</td><td>0</td><td>&quot;349257&quot;</td><td>7.8958</td><td>null</td><td>&quot;S&quot;</td><td>&quot;Markun&quot;</td><td>&quot;Mr.&quot;</td></tr><tr><td>883</td><td>0</td><td>3</td><td>&quot;Dahlberg, Miss…</td><td>&quot;female&quot;</td><td>22.0</td><td>0</td><td>0</td><td>&quot;7552&quot;</td><td>10.5167</td><td>null</td><td>&quot;S&quot;</td><td>&quot;Dahlberg&quot;</td><td>&quot;Miss.&quot;</td></tr><tr><td>884</td><td>0</td><td>2</td><td>&quot;Banfield, Mr. …</td><td>&quot;male&quot;</td><td>28.0</td><td>0</td><td>0</td><td>&quot;C.A./SOTON 340…</td><td>10.5</td><td>null</td><td>&quot;S&quot;</td><td>&quot;Banfield&quot;</td><td>&quot;Mr.&quot;</td></tr><tr><td>885</td><td>0</td><td>3</td><td>&quot;Sutehall, Mr. …</td><td>&quot;male&quot;</td><td>25.0</td><td>0</td><td>0</td><td>&quot;SOTON/OQ 39207…</td><td>7.05</td><td>null</td><td>&quot;S&quot;</td><td>&quot;Sutehall&quot;</td><td>&quot;Mr.&quot;</td></tr><tr><td>886</td><td>0</td><td>3</td><td>&quot;Rice, Mrs. Wil…</td><td>&quot;female&quot;</td><td>39.0</td><td>0</td><td>5</td><td>&quot;382652&quot;</td><td>29.125</td><td>null</td><td>&quot;Q&quot;</td><td>&quot;Rice&quot;</td><td>&quot;Mrs.&quot;</td></tr><tr><td>887</td><td>0</td><td>2</td><td>&quot;Montvila, Rev.…</td><td>&quot;male&quot;</td><td>27.0</td><td>0</td><td>0</td><td>&quot;211536&quot;</td><td>13.0</td><td>null</td><td>&quot;S&quot;</td><td>&quot;Montvila&quot;</td><td>&quot;Rev.&quot;</td></tr><tr><td>888</td><td>1</td><td>1</td><td>&quot;Graham, Miss. …</td><td>&quot;female&quot;</td><td>19.0</td><td>0</td><td>0</td><td>&quot;112053&quot;</td><td>30.0</td><td>&quot;B42&quot;</td><td>&quot;S&quot;</td><td>&quot;Graham&quot;</td><td>&quot;Miss.&quot;</td></tr><tr><td>889</td><td>0</td><td>3</td><td>&quot;Johnston, Miss…</td><td>&quot;female&quot;</td><td>null</td><td>1</td><td>2</td><td>&quot;W./C. 6607&quot;</td><td>23.45</td><td>null</td><td>&quot;S&quot;</td><td>&quot;Johnston&quot;</td><td>&quot;Miss.&quot;</td></tr><tr><td>890</td><td>1</td><td>1</td><td>&quot;Behr, Mr. Karl…</td><td>&quot;male&quot;</td><td>26.0</td><td>0</td><td>0</td><td>&quot;111369&quot;</td><td>30.0</td><td>&quot;C148&quot;</td><td>&quot;C&quot;</td><td>&quot;Behr&quot;</td><td>&quot;Mr.&quot;</td></tr><tr><td>891</td><td>0</td><td>3</td><td>&quot;Dooley, Mr. Pa…</td><td>&quot;male&quot;</td><td>32.0</td><td>0</td><td>0</td><td>&quot;370376&quot;</td><td>7.75</td><td>null</td><td>&quot;Q&quot;</td><td>&quot;Dooley&quot;</td><td>&quot;Mr.&quot;</td></tr></tbody></table></div>"
      ],
      "text/plain": [
       "shape: (891, 14)\n",
       "┌─────────────┬──────────┬────────┬─────────────────┬───┬───────┬──────────┬───────────┬───────────┐\n",
       "│ PassengerId ┆ Survived ┆ Pclass ┆ Name            ┆ … ┆ Cabin ┆ Embarked ┆ LastName  ┆ Honorific │\n",
       "│ ---         ┆ ---      ┆ ---    ┆ ---             ┆   ┆ ---   ┆ ---      ┆ ---       ┆ ---       │\n",
       "│ i64         ┆ i64      ┆ i64    ┆ str             ┆   ┆ str   ┆ str      ┆ str       ┆ str       │\n",
       "╞═════════════╪══════════╪════════╪═════════════════╪═══╪═══════╪══════════╪═══════════╪═══════════╡\n",
       "│ 1           ┆ 0        ┆ 3      ┆ Braund, Mr.     ┆ … ┆ null  ┆ S        ┆ Braund    ┆ Mr.       │\n",
       "│             ┆          ┆        ┆ Owen Harris     ┆   ┆       ┆          ┆           ┆           │\n",
       "│ 2           ┆ 1        ┆ 1      ┆ Cumings, Mrs.   ┆ … ┆ C85   ┆ C        ┆ Cumings   ┆ Mrs.      │\n",
       "│             ┆          ┆        ┆ John Bradley    ┆   ┆       ┆          ┆           ┆           │\n",
       "│             ┆          ┆        ┆ (Flor…          ┆   ┆       ┆          ┆           ┆           │\n",
       "│ 3           ┆ 1        ┆ 3      ┆ Heikkinen,      ┆ … ┆ null  ┆ S        ┆ Heikkinen ┆ Miss.     │\n",
       "│             ┆          ┆        ┆ Miss. Laina     ┆   ┆       ┆          ┆           ┆           │\n",
       "│ 4           ┆ 1        ┆ 1      ┆ Futrelle, Mrs.  ┆ … ┆ C123  ┆ S        ┆ Futrelle  ┆ Mrs.      │\n",
       "│             ┆          ┆        ┆ Jacques Heath   ┆   ┆       ┆          ┆           ┆           │\n",
       "│             ┆          ┆        ┆ (Li…            ┆   ┆       ┆          ┆           ┆           │\n",
       "│ …           ┆ …        ┆ …      ┆ …               ┆ … ┆ …     ┆ …        ┆ …         ┆ …         │\n",
       "│ 888         ┆ 1        ┆ 1      ┆ Graham, Miss.   ┆ … ┆ B42   ┆ S        ┆ Graham    ┆ Miss.     │\n",
       "│             ┆          ┆        ┆ Margaret Edith  ┆   ┆       ┆          ┆           ┆           │\n",
       "│ 889         ┆ 0        ┆ 3      ┆ Johnston, Miss. ┆ … ┆ null  ┆ S        ┆ Johnston  ┆ Miss.     │\n",
       "│             ┆          ┆        ┆ Catherine Helen ┆   ┆       ┆          ┆           ┆           │\n",
       "│             ┆          ┆        ┆ …               ┆   ┆       ┆          ┆           ┆           │\n",
       "│ 890         ┆ 1        ┆ 1      ┆ Behr, Mr. Karl  ┆ … ┆ C148  ┆ C        ┆ Behr      ┆ Mr.       │\n",
       "│             ┆          ┆        ┆ Howell          ┆   ┆       ┆          ┆           ┆           │\n",
       "│ 891         ┆ 0        ┆ 3      ┆ Dooley, Mr.     ┆ … ┆ null  ┆ Q        ┆ Dooley    ┆ Mr.       │\n",
       "│             ┆          ┆        ┆ Patrick         ┆   ┆       ┆          ┆           ┆           │\n",
       "└─────────────┴──────────┴────────┴─────────────────┴───┴───────┴──────────┴───────────┴───────────┘"
      ]
     },
     "execution_count": 234,
     "metadata": {},
     "output_type": "execute_result"
    }
   ],
   "source": [
    "'''\n",
    "Name\n",
    "Ticket\n",
    "Cabin\n",
    "'''\n",
    "(\n",
    "    train_explore\n",
    "    .select(\n",
    "        '*',\n",
    "        pl.col('Name').str.split(by=', ').apply(lambda x: x[0]).alias('LastName'),\n",
    "        pl.col('Name').str.split(by=', ').apply(lambda x: x[1]).str.split(by=' ').apply(lambda x: x[0]).alias('Honorific')\n",
    "    )\n",
    ")\n",
    "\n",
    "# train_explore.select('Name', pl.col('Ticket')).sort('Ticket').head(5)\n",
    "\n",
    "# train_explore.select('Cabin', pl.col('Ticket')).sort('Cabin').head(5)\n",
    "# train_explore.groupby('Cabin').agg(pl.n_unique('PassengerId').alias('counts')).sort('counts', descending=True)\n",
    "# train_explore.filter(pl.col('Cabin')=='C23 C25 C27')\n",
    "# display(train_explore.groupby('Ticket').agg(pl.n_unique('Cabin').alias('cabincount')).filter(pl.col('cabincount') > 1).head(5))\n",
    "# train_explore.filter(pl.col('Ticket') == '17421')"
   ]
  },
  {
   "cell_type": "code",
   "execution_count": 57,
   "metadata": {},
   "outputs": [],
   "source": [
    "def get_features_to_outcome_effect(df: pl.DataFrame, group_cols: list[str], outcome_col: str) -> None:\n",
    "    for col in group_cols:\n",
    "        if df[col].dtype in [pl.Float32, pl.Float64]:\n",
    "            df = (\n",
    "                df\n",
    "                .with_columns(pl.col(col).qcut(5).alias(col))\n",
    "            )\n",
    "    return df.groupby(group_cols).agg(pl.mean(outcome_col)).sort(group_cols, descending=False)\n",
    "\n",
    "# single_variable_relation_to_outcome(train_explore, ['Sex'], 'Survived')\n",
    "# single_variable_relation_to_outcome(train_explore, ['Pclass'], 'Survived')\n",
    "# single_variable_relation_to_outcome(train_explore, ['Age'], 'Survived')\n",
    "# single_variable_relation_to_outcome(train_explore, ['SibSp'], 'Survived')\n",
    "# single_variable_relation_to_outcome(train_explore, ['Parch'], 'Survived')\n",
    "# single_variable_relation_to_outcome(train_explore, ['Fare'], 'Survived')\n",
    "# single_variable_relation_to_outcome(train_explore, ['Embarked'], 'Survived')"
   ]
  },
  {
   "cell_type": "markdown",
   "metadata": {},
   "source": [
    "## Transform data"
   ]
  },
  {
   "cell_type": "code",
   "execution_count": 4,
   "metadata": {},
   "outputs": [],
   "source": [
    "from sklearn.base import BaseEstimator, TransformerMixin\n",
    "from sklearn.pipeline import Pipeline, FeatureUnion\n",
    "from sklearn.compose import ColumnTransformer"
   ]
  },
  {
   "cell_type": "code",
   "execution_count": 5,
   "metadata": {},
   "outputs": [
    {
     "data": {
      "text/plain": [
       "'\\nread in as polars\\nstore dataset object as pandas\\nfor each transformation, convert to polars, then convert back to pandas\\n'"
      ]
     },
     "execution_count": 5,
     "metadata": {},
     "output_type": "execute_result"
    }
   ],
   "source": [
    "# train_transformed.drop('Survived')\n",
    "\n",
    "'''\n",
    "read in as polars\n",
    "store dataset object as pandas\n",
    "for each transformation, convert to polars, then convert back to pandas\n",
    "'''"
   ]
  },
  {
   "cell_type": "code",
   "execution_count": 71,
   "metadata": {},
   "outputs": [
    {
     "ename": "SchemaFieldNotFoundError",
     "evalue": "LastName",
     "output_type": "error",
     "traceback": [
      "\u001b[0;31m---------------------------------------------------------------------------\u001b[0m",
      "\u001b[0;31mSchemaFieldNotFoundError\u001b[0m                  Traceback (most recent call last)",
      "Cell \u001b[0;32mIn[71], line 61\u001b[0m\n\u001b[1;32m     58\u001b[0m train_transformed \u001b[39m=\u001b[39m TitanicDataset(train\u001b[39m.\u001b[39mclone(), \u001b[39m'\u001b[39m\u001b[39mSurvived\u001b[39m\u001b[39m'\u001b[39m)\n\u001b[1;32m     59\u001b[0m test_transformed \u001b[39m=\u001b[39m TitanicDataset(test\u001b[39m.\u001b[39mclone(), \u001b[39m'\u001b[39m\u001b[39mSurvived\u001b[39m\u001b[39m'\u001b[39m)\n\u001b[0;32m---> 61\u001b[0m PIPELINE\u001b[39m.\u001b[39;49mfit(X\u001b[39m=\u001b[39;49mtrain_transformed\u001b[39m.\u001b[39;49mxtrain, y\u001b[39m=\u001b[39;49mtrain_transformed\u001b[39m.\u001b[39;49mytrain)\n",
      "File \u001b[0;32m~/.pyenv/versions/3.10.4/envs/kaggle/lib/python3.10/site-packages/sklearn/base.py:1151\u001b[0m, in \u001b[0;36m_fit_context.<locals>.decorator.<locals>.wrapper\u001b[0;34m(estimator, *args, **kwargs)\u001b[0m\n\u001b[1;32m   1144\u001b[0m     estimator\u001b[39m.\u001b[39m_validate_params()\n\u001b[1;32m   1146\u001b[0m \u001b[39mwith\u001b[39;00m config_context(\n\u001b[1;32m   1147\u001b[0m     skip_parameter_validation\u001b[39m=\u001b[39m(\n\u001b[1;32m   1148\u001b[0m         prefer_skip_nested_validation \u001b[39mor\u001b[39;00m global_skip_validation\n\u001b[1;32m   1149\u001b[0m     )\n\u001b[1;32m   1150\u001b[0m ):\n\u001b[0;32m-> 1151\u001b[0m     \u001b[39mreturn\u001b[39;00m fit_method(estimator, \u001b[39m*\u001b[39;49margs, \u001b[39m*\u001b[39;49m\u001b[39m*\u001b[39;49mkwargs)\n",
      "File \u001b[0;32m~/.pyenv/versions/3.10.4/envs/kaggle/lib/python3.10/site-packages/sklearn/pipeline.py:416\u001b[0m, in \u001b[0;36mPipeline.fit\u001b[0;34m(self, X, y, **fit_params)\u001b[0m\n\u001b[1;32m    390\u001b[0m \u001b[39m\u001b[39m\u001b[39m\"\"\"Fit the model.\u001b[39;00m\n\u001b[1;32m    391\u001b[0m \n\u001b[1;32m    392\u001b[0m \u001b[39mFit all the transformers one after the other and transform the\u001b[39;00m\n\u001b[0;32m   (...)\u001b[0m\n\u001b[1;32m    413\u001b[0m \u001b[39m    Pipeline with fitted steps.\u001b[39;00m\n\u001b[1;32m    414\u001b[0m \u001b[39m\"\"\"\u001b[39;00m\n\u001b[1;32m    415\u001b[0m fit_params_steps \u001b[39m=\u001b[39m \u001b[39mself\u001b[39m\u001b[39m.\u001b[39m_check_fit_params(\u001b[39m*\u001b[39m\u001b[39m*\u001b[39mfit_params)\n\u001b[0;32m--> 416\u001b[0m Xt \u001b[39m=\u001b[39m \u001b[39mself\u001b[39;49m\u001b[39m.\u001b[39;49m_fit(X, y, \u001b[39m*\u001b[39;49m\u001b[39m*\u001b[39;49mfit_params_steps)\n\u001b[1;32m    417\u001b[0m \u001b[39mwith\u001b[39;00m _print_elapsed_time(\u001b[39m\"\u001b[39m\u001b[39mPipeline\u001b[39m\u001b[39m\"\u001b[39m, \u001b[39mself\u001b[39m\u001b[39m.\u001b[39m_log_message(\u001b[39mlen\u001b[39m(\u001b[39mself\u001b[39m\u001b[39m.\u001b[39msteps) \u001b[39m-\u001b[39m \u001b[39m1\u001b[39m)):\n\u001b[1;32m    418\u001b[0m     \u001b[39mif\u001b[39;00m \u001b[39mself\u001b[39m\u001b[39m.\u001b[39m_final_estimator \u001b[39m!=\u001b[39m \u001b[39m\"\u001b[39m\u001b[39mpassthrough\u001b[39m\u001b[39m\"\u001b[39m:\n",
      "File \u001b[0;32m~/.pyenv/versions/3.10.4/envs/kaggle/lib/python3.10/site-packages/sklearn/pipeline.py:370\u001b[0m, in \u001b[0;36mPipeline._fit\u001b[0;34m(self, X, y, **fit_params_steps)\u001b[0m\n\u001b[1;32m    368\u001b[0m     cloned_transformer \u001b[39m=\u001b[39m clone(transformer)\n\u001b[1;32m    369\u001b[0m \u001b[39m# Fit or load from cache the current transformer\u001b[39;00m\n\u001b[0;32m--> 370\u001b[0m X, fitted_transformer \u001b[39m=\u001b[39m fit_transform_one_cached(\n\u001b[1;32m    371\u001b[0m     cloned_transformer,\n\u001b[1;32m    372\u001b[0m     X,\n\u001b[1;32m    373\u001b[0m     y,\n\u001b[1;32m    374\u001b[0m     \u001b[39mNone\u001b[39;49;00m,\n\u001b[1;32m    375\u001b[0m     message_clsname\u001b[39m=\u001b[39;49m\u001b[39m\"\u001b[39;49m\u001b[39mPipeline\u001b[39;49m\u001b[39m\"\u001b[39;49m,\n\u001b[1;32m    376\u001b[0m     message\u001b[39m=\u001b[39;49m\u001b[39mself\u001b[39;49m\u001b[39m.\u001b[39;49m_log_message(step_idx),\n\u001b[1;32m    377\u001b[0m     \u001b[39m*\u001b[39;49m\u001b[39m*\u001b[39;49mfit_params_steps[name],\n\u001b[1;32m    378\u001b[0m )\n\u001b[1;32m    379\u001b[0m \u001b[39m# Replace the transformer of the step with the fitted\u001b[39;00m\n\u001b[1;32m    380\u001b[0m \u001b[39m# transformer. This is necessary when loading the transformer\u001b[39;00m\n\u001b[1;32m    381\u001b[0m \u001b[39m# from the cache.\u001b[39;00m\n\u001b[1;32m    382\u001b[0m \u001b[39mself\u001b[39m\u001b[39m.\u001b[39msteps[step_idx] \u001b[39m=\u001b[39m (name, fitted_transformer)\n",
      "File \u001b[0;32m~/.pyenv/versions/3.10.4/envs/kaggle/lib/python3.10/site-packages/joblib/memory.py:353\u001b[0m, in \u001b[0;36mNotMemorizedFunc.__call__\u001b[0;34m(self, *args, **kwargs)\u001b[0m\n\u001b[1;32m    352\u001b[0m \u001b[39mdef\u001b[39;00m \u001b[39m__call__\u001b[39m(\u001b[39mself\u001b[39m, \u001b[39m*\u001b[39margs, \u001b[39m*\u001b[39m\u001b[39m*\u001b[39mkwargs):\n\u001b[0;32m--> 353\u001b[0m     \u001b[39mreturn\u001b[39;00m \u001b[39mself\u001b[39;49m\u001b[39m.\u001b[39;49mfunc(\u001b[39m*\u001b[39;49margs, \u001b[39m*\u001b[39;49m\u001b[39m*\u001b[39;49mkwargs)\n",
      "File \u001b[0;32m~/.pyenv/versions/3.10.4/envs/kaggle/lib/python3.10/site-packages/sklearn/pipeline.py:950\u001b[0m, in \u001b[0;36m_fit_transform_one\u001b[0;34m(transformer, X, y, weight, message_clsname, message, **fit_params)\u001b[0m\n\u001b[1;32m    948\u001b[0m \u001b[39mwith\u001b[39;00m _print_elapsed_time(message_clsname, message):\n\u001b[1;32m    949\u001b[0m     \u001b[39mif\u001b[39;00m \u001b[39mhasattr\u001b[39m(transformer, \u001b[39m\"\u001b[39m\u001b[39mfit_transform\u001b[39m\u001b[39m\"\u001b[39m):\n\u001b[0;32m--> 950\u001b[0m         res \u001b[39m=\u001b[39m transformer\u001b[39m.\u001b[39;49mfit_transform(X, y, \u001b[39m*\u001b[39;49m\u001b[39m*\u001b[39;49mfit_params)\n\u001b[1;32m    951\u001b[0m     \u001b[39melse\u001b[39;00m:\n\u001b[1;32m    952\u001b[0m         res \u001b[39m=\u001b[39m transformer\u001b[39m.\u001b[39mfit(X, y, \u001b[39m*\u001b[39m\u001b[39m*\u001b[39mfit_params)\u001b[39m.\u001b[39mtransform(X)\n",
      "File \u001b[0;32m~/.pyenv/versions/3.10.4/envs/kaggle/lib/python3.10/site-packages/sklearn/utils/_set_output.py:140\u001b[0m, in \u001b[0;36m_wrap_method_output.<locals>.wrapped\u001b[0;34m(self, X, *args, **kwargs)\u001b[0m\n\u001b[1;32m    138\u001b[0m \u001b[39m@wraps\u001b[39m(f)\n\u001b[1;32m    139\u001b[0m \u001b[39mdef\u001b[39;00m \u001b[39mwrapped\u001b[39m(\u001b[39mself\u001b[39m, X, \u001b[39m*\u001b[39margs, \u001b[39m*\u001b[39m\u001b[39m*\u001b[39mkwargs):\n\u001b[0;32m--> 140\u001b[0m     data_to_wrap \u001b[39m=\u001b[39m f(\u001b[39mself\u001b[39;49m, X, \u001b[39m*\u001b[39;49margs, \u001b[39m*\u001b[39;49m\u001b[39m*\u001b[39;49mkwargs)\n\u001b[1;32m    141\u001b[0m     \u001b[39mif\u001b[39;00m \u001b[39misinstance\u001b[39m(data_to_wrap, \u001b[39mtuple\u001b[39m):\n\u001b[1;32m    142\u001b[0m         \u001b[39m# only wrap the first output for cross decomposition\u001b[39;00m\n\u001b[1;32m    143\u001b[0m         return_tuple \u001b[39m=\u001b[39m (\n\u001b[1;32m    144\u001b[0m             _wrap_data_with_container(method, data_to_wrap[\u001b[39m0\u001b[39m], X, \u001b[39mself\u001b[39m),\n\u001b[1;32m    145\u001b[0m             \u001b[39m*\u001b[39mdata_to_wrap[\u001b[39m1\u001b[39m:],\n\u001b[1;32m    146\u001b[0m         )\n",
      "File \u001b[0;32m~/.pyenv/versions/3.10.4/envs/kaggle/lib/python3.10/site-packages/sklearn/base.py:918\u001b[0m, in \u001b[0;36mTransformerMixin.fit_transform\u001b[0;34m(self, X, y, **fit_params)\u001b[0m\n\u001b[1;32m    915\u001b[0m     \u001b[39mreturn\u001b[39;00m \u001b[39mself\u001b[39m\u001b[39m.\u001b[39mfit(X, \u001b[39m*\u001b[39m\u001b[39m*\u001b[39mfit_params)\u001b[39m.\u001b[39mtransform(X)\n\u001b[1;32m    916\u001b[0m \u001b[39melse\u001b[39;00m:\n\u001b[1;32m    917\u001b[0m     \u001b[39m# fit method of arity 2 (supervised transformation)\u001b[39;00m\n\u001b[0;32m--> 918\u001b[0m     \u001b[39mreturn\u001b[39;00m \u001b[39mself\u001b[39;49m\u001b[39m.\u001b[39;49mfit(X, y, \u001b[39m*\u001b[39;49m\u001b[39m*\u001b[39;49mfit_params)\u001b[39m.\u001b[39;49mtransform(X)\n",
      "File \u001b[0;32m~/Desktop/kaggle/1. Titanic/utils/decorators/__init__.py:19\u001b[0m, in \u001b[0;36mPolarsCompatibleTransformer.polars_compatible.<locals>.polars_function\u001b[0;34m(X, y, *args, **kwargs)\u001b[0m\n\u001b[1;32m     17\u001b[0m     result \u001b[39m=\u001b[39m func(X_polars, y_polars)\n\u001b[1;32m     18\u001b[0m \u001b[39melse\u001b[39;00m:\n\u001b[0;32m---> 19\u001b[0m     result \u001b[39m=\u001b[39m func(X_polars)\n\u001b[1;32m     21\u001b[0m \u001b[39mif\u001b[39;00m (result \u001b[39mis\u001b[39;00m \u001b[39mnot\u001b[39;00m \u001b[39mNone\u001b[39;00m) \u001b[39mand\u001b[39;00m (\u001b[39mnot\u001b[39;00m \u001b[39misinstance\u001b[39m(result, TransformerMixin)) \u001b[39mand\u001b[39;00m (functype \u001b[39m==\u001b[39m \u001b[39m'\u001b[39m\u001b[39mtransform\u001b[39m\u001b[39m'\u001b[39m):\n\u001b[1;32m     22\u001b[0m     X_pandas \u001b[39m=\u001b[39m result\u001b[39m.\u001b[39mto_pandas()\n",
      "File \u001b[0;32m~/.pyenv/versions/3.10.4/envs/kaggle/lib/python3.10/site-packages/sklearn/utils/_set_output.py:140\u001b[0m, in \u001b[0;36m_wrap_method_output.<locals>.wrapped\u001b[0;34m(self, X, *args, **kwargs)\u001b[0m\n\u001b[1;32m    138\u001b[0m \u001b[39m@wraps\u001b[39m(f)\n\u001b[1;32m    139\u001b[0m \u001b[39mdef\u001b[39;00m \u001b[39mwrapped\u001b[39m(\u001b[39mself\u001b[39m, X, \u001b[39m*\u001b[39margs, \u001b[39m*\u001b[39m\u001b[39m*\u001b[39mkwargs):\n\u001b[0;32m--> 140\u001b[0m     data_to_wrap \u001b[39m=\u001b[39m f(\u001b[39mself\u001b[39;49m, X, \u001b[39m*\u001b[39;49margs, \u001b[39m*\u001b[39;49m\u001b[39m*\u001b[39;49mkwargs)\n\u001b[1;32m    141\u001b[0m     \u001b[39mif\u001b[39;00m \u001b[39misinstance\u001b[39m(data_to_wrap, \u001b[39mtuple\u001b[39m):\n\u001b[1;32m    142\u001b[0m         \u001b[39m# only wrap the first output for cross decomposition\u001b[39;00m\n\u001b[1;32m    143\u001b[0m         return_tuple \u001b[39m=\u001b[39m (\n\u001b[1;32m    144\u001b[0m             _wrap_data_with_container(method, data_to_wrap[\u001b[39m0\u001b[39m], X, \u001b[39mself\u001b[39m),\n\u001b[1;32m    145\u001b[0m             \u001b[39m*\u001b[39mdata_to_wrap[\u001b[39m1\u001b[39m:],\n\u001b[1;32m    146\u001b[0m         )\n",
      "File \u001b[0;32m~/Desktop/kaggle/1. Titanic/utils/transformers/__init__.py:194\u001b[0m, in \u001b[0;36mDropColumns.transform\u001b[0;34m(self, X, y)\u001b[0m\n\u001b[1;32m    191\u001b[0m \u001b[39mdef\u001b[39;00m \u001b[39mtransform\u001b[39m(\u001b[39mself\u001b[39m, X, y\u001b[39m=\u001b[39m\u001b[39mNone\u001b[39;00m):\n\u001b[1;32m    192\u001b[0m     X_transformed \u001b[39m=\u001b[39m (\n\u001b[1;32m    193\u001b[0m         X\n\u001b[0;32m--> 194\u001b[0m         \u001b[39m.\u001b[39;49mdrop(\u001b[39mlist\u001b[39;49m(\u001b[39mset\u001b[39;49m(\u001b[39mself\u001b[39;49m\u001b[39m.\u001b[39;49mcols_to_drop \u001b[39m+\u001b[39;49m \u001b[39mself\u001b[39;49m\u001b[39m.\u001b[39;49mdrop_cols_with_regex)))\n\u001b[1;32m    195\u001b[0m     )\n\u001b[1;32m    196\u001b[0m     \u001b[39mreturn\u001b[39;00m X_transformed\n",
      "File \u001b[0;32m~/.pyenv/versions/3.10.4/envs/kaggle/lib/python3.10/site-packages/polars/dataframe/frame.py:6178\u001b[0m, in \u001b[0;36mDataFrame.drop\u001b[0;34m(self, columns, *more_columns)\u001b[0m\n\u001b[1;32m   6095\u001b[0m \u001b[39mdef\u001b[39;00m \u001b[39mdrop\u001b[39m(\n\u001b[1;32m   6096\u001b[0m     \u001b[39mself\u001b[39m,\n\u001b[1;32m   6097\u001b[0m     columns: ColumnNameOrSelector \u001b[39m|\u001b[39m Collection[ColumnNameOrSelector],\n\u001b[1;32m   6098\u001b[0m     \u001b[39m*\u001b[39mmore_columns: ColumnNameOrSelector,\n\u001b[1;32m   6099\u001b[0m ) \u001b[39m-\u001b[39m\u001b[39m>\u001b[39m DataFrame:\n\u001b[1;32m   6100\u001b[0m \u001b[39m    \u001b[39m\u001b[39m\"\"\"\u001b[39;00m\n\u001b[1;32m   6101\u001b[0m \u001b[39m    Remove columns from the dataframe.\u001b[39;00m\n\u001b[1;32m   6102\u001b[0m \n\u001b[0;32m   (...)\u001b[0m\n\u001b[1;32m   6176\u001b[0m \n\u001b[1;32m   6177\u001b[0m \u001b[39m    \"\"\"\u001b[39;00m\n\u001b[0;32m-> 6178\u001b[0m     \u001b[39mreturn\u001b[39;00m \u001b[39mself\u001b[39;49m\u001b[39m.\u001b[39;49mlazy()\u001b[39m.\u001b[39;49mdrop(columns, \u001b[39m*\u001b[39;49mmore_columns)\u001b[39m.\u001b[39;49mcollect(no_optimization\u001b[39m=\u001b[39;49m\u001b[39mTrue\u001b[39;49;00m)\n",
      "File \u001b[0;32m~/.pyenv/versions/3.10.4/envs/kaggle/lib/python3.10/site-packages/polars/utils/deprecation.py:93\u001b[0m, in \u001b[0;36mdeprecate_renamed_parameter.<locals>.decorate.<locals>.wrapper\u001b[0;34m(*args, **kwargs)\u001b[0m\n\u001b[1;32m     88\u001b[0m \u001b[39m@wraps\u001b[39m(function)\n\u001b[1;32m     89\u001b[0m \u001b[39mdef\u001b[39;00m \u001b[39mwrapper\u001b[39m(\u001b[39m*\u001b[39margs: P\u001b[39m.\u001b[39margs, \u001b[39m*\u001b[39m\u001b[39m*\u001b[39mkwargs: P\u001b[39m.\u001b[39mkwargs) \u001b[39m-\u001b[39m\u001b[39m>\u001b[39m T:\n\u001b[1;32m     90\u001b[0m     _rename_keyword_argument(\n\u001b[1;32m     91\u001b[0m         old_name, new_name, kwargs, function\u001b[39m.\u001b[39m\u001b[39m__name__\u001b[39m, version\n\u001b[1;32m     92\u001b[0m     )\n\u001b[0;32m---> 93\u001b[0m     \u001b[39mreturn\u001b[39;00m function(\u001b[39m*\u001b[39;49margs, \u001b[39m*\u001b[39;49m\u001b[39m*\u001b[39;49mkwargs)\n",
      "File \u001b[0;32m~/.pyenv/versions/3.10.4/envs/kaggle/lib/python3.10/site-packages/polars/lazyframe/frame.py:1695\u001b[0m, in \u001b[0;36mLazyFrame.collect\u001b[0;34m(self, type_coercion, predicate_pushdown, projection_pushdown, simplify_expression, no_optimization, slice_pushdown, comm_subplan_elim, comm_subexpr_elim, streaming)\u001b[0m\n\u001b[1;32m   1683\u001b[0m     comm_subplan_elim \u001b[39m=\u001b[39m \u001b[39mFalse\u001b[39;00m\n\u001b[1;32m   1685\u001b[0m ldf \u001b[39m=\u001b[39m \u001b[39mself\u001b[39m\u001b[39m.\u001b[39m_ldf\u001b[39m.\u001b[39moptimization_toggle(\n\u001b[1;32m   1686\u001b[0m     type_coercion,\n\u001b[1;32m   1687\u001b[0m     predicate_pushdown,\n\u001b[0;32m   (...)\u001b[0m\n\u001b[1;32m   1693\u001b[0m     streaming,\n\u001b[1;32m   1694\u001b[0m )\n\u001b[0;32m-> 1695\u001b[0m \u001b[39mreturn\u001b[39;00m wrap_df(ldf\u001b[39m.\u001b[39;49mcollect())\n",
      "\u001b[0;31mSchemaFieldNotFoundError\u001b[0m: LastName"
     ]
    }
   ],
   "source": [
    "from abc import ABCMeta, abstractmethod\n",
    "from dataclasses import dataclass\n",
    "from sklearn.model_selection import train_test_split\n",
    "import pandas as pd\n",
    "import pyarrow as pa\n",
    "from typing import Callable\n",
    "import re\n",
    "\n",
    "from utils.baseclass import Dataset\n",
    "from utils.data import TitanicDataset\n",
    "from utils.decorators import PolarsCompatibleTransformer\n",
    "from utils.transformers import MakeNameFeatures, TransformColToCategorical, TransformStringColToNumeric, TransformColToBins, DropColumns\n",
    "\n",
    "from sklearn.preprocessing import LabelEncoder\n",
    "\n",
    "from xgboost import XGBClassifier\n",
    "import xgboost as xgb\n",
    "\n",
    "@PolarsCompatibleTransformer\n",
    "class FillNull(BaseEstimator, TransformerMixin):\n",
    "    def __init__(self, null_value: float):\n",
    "        self.null_value = null_value\n",
    "    \n",
    "    def fit(self, X, y=None):\n",
    "        return self\n",
    "\n",
    "    def transform(self, X, y=None):\n",
    "        X_transformed = (\n",
    "            X\n",
    "            .fill_null(self.null_value)\n",
    "            .fill_nan(self.null_value)\n",
    "        )\n",
    "        return X_transformed\n",
    "\n",
    "PIPELINE = Pipeline([\n",
    "    ('make_name_features', MakeNameFeatures()),\n",
    "    ('transform_pclass', TransformStringColToNumeric('Pclass', replace_original=False)),\n",
    "    ('transform_sex', TransformStringColToNumeric('Sex', replace_original=False)),\n",
    "    ('transform_sibsp', TransformStringColToNumeric('SibSp', replace_original=False)),\n",
    "    ('transform_parch', TransformStringColToNumeric('Parch', replace_original=False)),\n",
    "    ('transform_embarked', TransformStringColToNumeric('Embarked', replace_original=False)),\n",
    "    ('transform_honorific', TransformStringColToNumeric('Honorific', replace_original=False)),\n",
    "    ('transform_age', TransformColToBins('Age', replace_original=False)),\n",
    "    ('transform_fare', TransformColToBins('Fare', replace_original=False)),\n",
    "    ('add_familyid_lastname', AddFamilyUnitID(['LastName'])),\n",
    "    ('add_survivalrate_lastname', AddSurvivalRate(['LastName'])),\n",
    "    ('add_familyid_lastname_ticket', AddFamilyUnitID(['LastName', 'Ticket'])),\n",
    "    ('add_survivalrate_lastname_ticket', AddSurvivalRate(['LastName', 'Ticket'])),\n",
    "    ('add_familyid_lastname_cabin', AddFamilyUnitID(['LastName', 'Cabin'])),\n",
    "    ('add_survivalrate_lastname_cabin', AddSurvivalRate(['LastName', 'Cabin'])),\n",
    "    ('drop_unneeded_cols', DropColumns(\n",
    "        cols_to_drop=['LastName', 'Cabin', 'Ticket', 'PassengerId', 'Pclass', 'Sex', 'Embarked', 'Honorific'],\n",
    "        regex_to_drop='groupid_*'\n",
    "    )),  \n",
    "    ('fill_nulls', FillNull(-1)),\n",
    "    ('xgbc', XGBClassifier(enable_categorical=True, tree_method='hist'))\n",
    "])\n",
    "train_transformed = TitanicDataset(train.clone(), 'Survived')\n",
    "test_transformed = TitanicDataset(test.clone(), 'Survived')\n",
    "\n",
    "PIPELINE.fit(X=train_transformed.xtrain, y=train_transformed.ytrain)"
   ]
  },
  {
   "cell_type": "code",
   "execution_count": 70,
   "metadata": {},
   "outputs": [
    {
     "ename": "ValueError",
     "evalue": "Found input variables with inconsistent numbers of samples: [268, 1285]",
     "output_type": "error",
     "traceback": [
      "\u001b[0;31m---------------------------------------------------------------------------\u001b[0m",
      "\u001b[0;31mValueError\u001b[0m                                Traceback (most recent call last)",
      "Cell \u001b[0;32mIn[70], line 3\u001b[0m\n\u001b[1;32m      1\u001b[0m \u001b[39m# preds = PIPELINE.predict_proba(train_transformed.xtest, train_transformed.ytest)\u001b[39;00m\n\u001b[1;32m      2\u001b[0m \u001b[39mfrom\u001b[39;00m \u001b[39msklearn\u001b[39;00m\u001b[39m.\u001b[39;00m\u001b[39mmetrics\u001b[39;00m \u001b[39mimport\u001b[39;00m RocCurveDisplay\n\u001b[0;32m----> 3\u001b[0m RocCurveDisplay\u001b[39m.\u001b[39;49mfrom_estimator(PIPELINE, train_transformed\u001b[39m.\u001b[39;49mxtest, train_transformed\u001b[39m.\u001b[39;49mytest)\n\u001b[1;32m      4\u001b[0m \u001b[39mprint\u001b[39m(train_transformed\u001b[39m.\u001b[39mxtest\u001b[39m.\u001b[39mshape)\n\u001b[1;32m      5\u001b[0m \u001b[39mprint\u001b[39m(train_transformed\u001b[39m.\u001b[39mytest\u001b[39m.\u001b[39mshape)\n",
      "File \u001b[0;32m~/.pyenv/versions/3.10.4/envs/kaggle/lib/python3.10/site-packages/sklearn/metrics/_plot/roc_curve.py:278\u001b[0m, in \u001b[0;36mRocCurveDisplay.from_estimator\u001b[0;34m(cls, estimator, X, y, sample_weight, drop_intermediate, response_method, pos_label, name, ax, plot_chance_level, chance_level_kw, **kwargs)\u001b[0m\n\u001b[1;32m    186\u001b[0m \u001b[39m\u001b[39m\u001b[39m\"\"\"Create a ROC Curve display from an estimator.\u001b[39;00m\n\u001b[1;32m    187\u001b[0m \n\u001b[1;32m    188\u001b[0m \u001b[39mParameters\u001b[39;00m\n\u001b[0;32m   (...)\u001b[0m\n\u001b[1;32m    267\u001b[0m \u001b[39m>>> plt.show()\u001b[39;00m\n\u001b[1;32m    268\u001b[0m \u001b[39m\"\"\"\u001b[39;00m\n\u001b[1;32m    269\u001b[0m y_pred, pos_label, name \u001b[39m=\u001b[39m \u001b[39mcls\u001b[39m\u001b[39m.\u001b[39m_validate_and_get_response_values(\n\u001b[1;32m    270\u001b[0m     estimator,\n\u001b[1;32m    271\u001b[0m     X,\n\u001b[0;32m   (...)\u001b[0m\n\u001b[1;32m    275\u001b[0m     name\u001b[39m=\u001b[39mname,\n\u001b[1;32m    276\u001b[0m )\n\u001b[0;32m--> 278\u001b[0m \u001b[39mreturn\u001b[39;00m \u001b[39mcls\u001b[39;49m\u001b[39m.\u001b[39;49mfrom_predictions(\n\u001b[1;32m    279\u001b[0m     y_true\u001b[39m=\u001b[39;49my,\n\u001b[1;32m    280\u001b[0m     y_pred\u001b[39m=\u001b[39;49my_pred,\n\u001b[1;32m    281\u001b[0m     sample_weight\u001b[39m=\u001b[39;49msample_weight,\n\u001b[1;32m    282\u001b[0m     drop_intermediate\u001b[39m=\u001b[39;49mdrop_intermediate,\n\u001b[1;32m    283\u001b[0m     name\u001b[39m=\u001b[39;49mname,\n\u001b[1;32m    284\u001b[0m     ax\u001b[39m=\u001b[39;49max,\n\u001b[1;32m    285\u001b[0m     pos_label\u001b[39m=\u001b[39;49mpos_label,\n\u001b[1;32m    286\u001b[0m     plot_chance_level\u001b[39m=\u001b[39;49mplot_chance_level,\n\u001b[1;32m    287\u001b[0m     chance_level_kw\u001b[39m=\u001b[39;49mchance_level_kw,\n\u001b[1;32m    288\u001b[0m     \u001b[39m*\u001b[39;49m\u001b[39m*\u001b[39;49mkwargs,\n\u001b[1;32m    289\u001b[0m )\n",
      "File \u001b[0;32m~/.pyenv/versions/3.10.4/envs/kaggle/lib/python3.10/site-packages/sklearn/metrics/_plot/roc_curve.py:386\u001b[0m, in \u001b[0;36mRocCurveDisplay.from_predictions\u001b[0;34m(cls, y_true, y_pred, sample_weight, drop_intermediate, pos_label, name, ax, plot_chance_level, chance_level_kw, **kwargs)\u001b[0m\n\u001b[1;32m    291\u001b[0m \u001b[39m@classmethod\u001b[39m\n\u001b[1;32m    292\u001b[0m \u001b[39mdef\u001b[39;00m \u001b[39mfrom_predictions\u001b[39m(\n\u001b[1;32m    293\u001b[0m     \u001b[39mcls\u001b[39m,\n\u001b[0;32m   (...)\u001b[0m\n\u001b[1;32m    304\u001b[0m     \u001b[39m*\u001b[39m\u001b[39m*\u001b[39mkwargs,\n\u001b[1;32m    305\u001b[0m ):\n\u001b[1;32m    306\u001b[0m \u001b[39m    \u001b[39m\u001b[39m\"\"\"Plot ROC curve given the true and predicted values.\u001b[39;00m\n\u001b[1;32m    307\u001b[0m \n\u001b[1;32m    308\u001b[0m \u001b[39m    Read more in the :ref:`User Guide <visualizations>`.\u001b[39;00m\n\u001b[0;32m   (...)\u001b[0m\n\u001b[1;32m    384\u001b[0m \u001b[39m    >>> plt.show()\u001b[39;00m\n\u001b[1;32m    385\u001b[0m \u001b[39m    \"\"\"\u001b[39;00m\n\u001b[0;32m--> 386\u001b[0m     pos_label_validated, name \u001b[39m=\u001b[39m \u001b[39mcls\u001b[39;49m\u001b[39m.\u001b[39;49m_validate_from_predictions_params(\n\u001b[1;32m    387\u001b[0m         y_true, y_pred, sample_weight\u001b[39m=\u001b[39;49msample_weight, pos_label\u001b[39m=\u001b[39;49mpos_label, name\u001b[39m=\u001b[39;49mname\n\u001b[1;32m    388\u001b[0m     )\n\u001b[1;32m    390\u001b[0m     fpr, tpr, _ \u001b[39m=\u001b[39m roc_curve(\n\u001b[1;32m    391\u001b[0m         y_true,\n\u001b[1;32m    392\u001b[0m         y_pred,\n\u001b[0;32m   (...)\u001b[0m\n\u001b[1;32m    395\u001b[0m         drop_intermediate\u001b[39m=\u001b[39mdrop_intermediate,\n\u001b[1;32m    396\u001b[0m     )\n\u001b[1;32m    397\u001b[0m     roc_auc \u001b[39m=\u001b[39m auc(fpr, tpr)\n",
      "File \u001b[0;32m~/.pyenv/versions/3.10.4/envs/kaggle/lib/python3.10/site-packages/sklearn/utils/_plotting.py:55\u001b[0m, in \u001b[0;36m_BinaryClassifierCurveDisplayMixin._validate_from_predictions_params\u001b[0;34m(cls, y_true, y_pred, sample_weight, pos_label, name)\u001b[0m\n\u001b[1;32m     49\u001b[0m \u001b[39mif\u001b[39;00m type_of_target(y_true) \u001b[39m!=\u001b[39m \u001b[39m\"\u001b[39m\u001b[39mbinary\u001b[39m\u001b[39m\"\u001b[39m:\n\u001b[1;32m     50\u001b[0m     \u001b[39mraise\u001b[39;00m \u001b[39mValueError\u001b[39;00m(\n\u001b[1;32m     51\u001b[0m         \u001b[39mf\u001b[39m\u001b[39m\"\u001b[39m\u001b[39mThe target y is not binary. Got \u001b[39m\u001b[39m{\u001b[39;00mtype_of_target(y_true)\u001b[39m}\u001b[39;00m\u001b[39m type of\u001b[39m\u001b[39m\"\u001b[39m\n\u001b[1;32m     52\u001b[0m         \u001b[39m\"\u001b[39m\u001b[39m target.\u001b[39m\u001b[39m\"\u001b[39m\n\u001b[1;32m     53\u001b[0m     )\n\u001b[0;32m---> 55\u001b[0m check_consistent_length(y_true, y_pred, sample_weight)\n\u001b[1;32m     56\u001b[0m pos_label \u001b[39m=\u001b[39m _check_pos_label_consistency(pos_label, y_true)\n\u001b[1;32m     58\u001b[0m name \u001b[39m=\u001b[39m name \u001b[39mif\u001b[39;00m name \u001b[39mis\u001b[39;00m \u001b[39mnot\u001b[39;00m \u001b[39mNone\u001b[39;00m \u001b[39melse\u001b[39;00m \u001b[39m\"\u001b[39m\u001b[39mClassifier\u001b[39m\u001b[39m\"\u001b[39m\n",
      "File \u001b[0;32m~/.pyenv/versions/3.10.4/envs/kaggle/lib/python3.10/site-packages/sklearn/utils/validation.py:409\u001b[0m, in \u001b[0;36mcheck_consistent_length\u001b[0;34m(*arrays)\u001b[0m\n\u001b[1;32m    407\u001b[0m uniques \u001b[39m=\u001b[39m np\u001b[39m.\u001b[39munique(lengths)\n\u001b[1;32m    408\u001b[0m \u001b[39mif\u001b[39;00m \u001b[39mlen\u001b[39m(uniques) \u001b[39m>\u001b[39m \u001b[39m1\u001b[39m:\n\u001b[0;32m--> 409\u001b[0m     \u001b[39mraise\u001b[39;00m \u001b[39mValueError\u001b[39;00m(\n\u001b[1;32m    410\u001b[0m         \u001b[39m\"\u001b[39m\u001b[39mFound input variables with inconsistent numbers of samples: \u001b[39m\u001b[39m%r\u001b[39;00m\u001b[39m\"\u001b[39m\n\u001b[1;32m    411\u001b[0m         \u001b[39m%\u001b[39m [\u001b[39mint\u001b[39m(l) \u001b[39mfor\u001b[39;00m l \u001b[39min\u001b[39;00m lengths]\n\u001b[1;32m    412\u001b[0m     )\n",
      "\u001b[0;31mValueError\u001b[0m: Found input variables with inconsistent numbers of samples: [268, 1285]"
     ]
    }
   ],
   "source": [
    "# preds = PIPELINE.predict_proba(train_transformed.xtest, train_transformed.ytest)\n",
    "from sklearn.metrics import RocCurveDisplay\n",
    "RocCurveDisplay.from_estimator(PIPELINE, train_transformed.xtest, train_transformed.ytest)\n",
    "print(train_transformed.xtest.shape)\n",
    "print(train_transformed.ytest.shape)"
   ]
  },
  {
   "cell_type": "code",
   "execution_count": null,
   "metadata": {},
   "outputs": [],
   "source": []
  }
 ],
 "metadata": {
  "kernelspec": {
   "display_name": "kaggle",
   "language": "python",
   "name": "python3"
  },
  "language_info": {
   "codemirror_mode": {
    "name": "ipython",
    "version": 3
   },
   "file_extension": ".py",
   "mimetype": "text/x-python",
   "name": "python",
   "nbconvert_exporter": "python",
   "pygments_lexer": "ipython3",
   "version": "3.10.4"
  },
  "orig_nbformat": 4
 },
 "nbformat": 4,
 "nbformat_minor": 2
}
