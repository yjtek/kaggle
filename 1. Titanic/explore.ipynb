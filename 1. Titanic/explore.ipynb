{
 "cells": [
  {
   "cell_type": "markdown",
   "metadata": {},
   "source": [
    "## Init"
   ]
  },
  {
   "cell_type": "code",
   "execution_count": 2,
   "metadata": {},
   "outputs": [],
   "source": [
    "import numpy as np\n",
    "import polars as pl"
   ]
  },
  {
   "cell_type": "code",
   "execution_count": 6,
   "metadata": {},
   "outputs": [],
   "source": [
    "DATAPATH = './data'\n",
    "train = pl.read_csv(f'{DATAPATH}/train.csv')\n",
    "test = pl.read_csv(f'{DATAPATH}/test.csv')\n",
    "submission_sample = pl.read_csv(f'{DATAPATH}/gender_submission.csv')"
   ]
  },
  {
   "cell_type": "markdown",
   "metadata": {},
   "source": [
    "## Data Exploration"
   ]
  },
  {
   "cell_type": "code",
   "execution_count": 59,
   "metadata": {},
   "outputs": [],
   "source": [
    "train_explore = train.clone()"
   ]
  },
  {
   "cell_type": "code",
   "execution_count": 63,
   "metadata": {},
   "outputs": [
    {
     "data": {
      "text/html": [
       "<div><style>\n",
       ".dataframe > thead > tr > th,\n",
       ".dataframe > tbody > tr > td {\n",
       "  text-align: right;\n",
       "}\n",
       "</style>\n",
       "<small>shape: (9, 13)</small><table border=\"1\" class=\"dataframe\"><thead><tr><th>describe</th><th>PassengerId</th><th>Survived</th><th>Pclass</th><th>Name</th><th>Sex</th><th>Age</th><th>SibSp</th><th>Parch</th><th>Ticket</th><th>Fare</th><th>Cabin</th><th>Embarked</th></tr><tr><td>str</td><td>f64</td><td>f64</td><td>f64</td><td>str</td><td>str</td><td>f64</td><td>f64</td><td>f64</td><td>str</td><td>f64</td><td>str</td><td>str</td></tr></thead><tbody><tr><td>&quot;count&quot;</td><td>891.0</td><td>891.0</td><td>891.0</td><td>&quot;891&quot;</td><td>&quot;891&quot;</td><td>891.0</td><td>891.0</td><td>891.0</td><td>&quot;891&quot;</td><td>891.0</td><td>&quot;891&quot;</td><td>&quot;891&quot;</td></tr><tr><td>&quot;null_count&quot;</td><td>0.0</td><td>0.0</td><td>0.0</td><td>&quot;0&quot;</td><td>&quot;0&quot;</td><td>177.0</td><td>0.0</td><td>0.0</td><td>&quot;0&quot;</td><td>0.0</td><td>&quot;687&quot;</td><td>&quot;2&quot;</td></tr><tr><td>&quot;mean&quot;</td><td>446.0</td><td>0.383838</td><td>2.308642</td><td>null</td><td>null</td><td>29.699118</td><td>0.523008</td><td>0.381594</td><td>null</td><td>32.204208</td><td>null</td><td>null</td></tr><tr><td>&quot;std&quot;</td><td>257.353842</td><td>0.486592</td><td>0.836071</td><td>null</td><td>null</td><td>14.526497</td><td>1.102743</td><td>0.806057</td><td>null</td><td>49.693429</td><td>null</td><td>null</td></tr><tr><td>&quot;min&quot;</td><td>1.0</td><td>0.0</td><td>1.0</td><td>&quot;Abbing, Mr. An…</td><td>&quot;female&quot;</td><td>0.42</td><td>0.0</td><td>0.0</td><td>&quot;110152&quot;</td><td>0.0</td><td>&quot;A10&quot;</td><td>&quot;C&quot;</td></tr><tr><td>&quot;25%&quot;</td><td>223.0</td><td>0.0</td><td>2.0</td><td>null</td><td>null</td><td>20.0</td><td>0.0</td><td>0.0</td><td>null</td><td>7.8958</td><td>null</td><td>null</td></tr><tr><td>&quot;50%&quot;</td><td>446.0</td><td>0.0</td><td>3.0</td><td>null</td><td>null</td><td>28.0</td><td>0.0</td><td>0.0</td><td>null</td><td>14.4542</td><td>null</td><td>null</td></tr><tr><td>&quot;75%&quot;</td><td>669.0</td><td>1.0</td><td>3.0</td><td>null</td><td>null</td><td>38.0</td><td>1.0</td><td>0.0</td><td>null</td><td>31.0</td><td>null</td><td>null</td></tr><tr><td>&quot;max&quot;</td><td>891.0</td><td>1.0</td><td>3.0</td><td>&quot;van Melkebeke,…</td><td>&quot;male&quot;</td><td>80.0</td><td>8.0</td><td>6.0</td><td>&quot;WE/P 5735&quot;</td><td>512.3292</td><td>&quot;T&quot;</td><td>&quot;S&quot;</td></tr></tbody></table></div>"
      ],
      "text/plain": [
       "shape: (9, 13)\n",
       "┌────────────┬─────────────┬──────────┬──────────┬───┬───────────┬───────────┬───────┬──────────┐\n",
       "│ describe   ┆ PassengerId ┆ Survived ┆ Pclass   ┆ … ┆ Ticket    ┆ Fare      ┆ Cabin ┆ Embarked │\n",
       "│ ---        ┆ ---         ┆ ---      ┆ ---      ┆   ┆ ---       ┆ ---       ┆ ---   ┆ ---      │\n",
       "│ str        ┆ f64         ┆ f64      ┆ f64      ┆   ┆ str       ┆ f64       ┆ str   ┆ str      │\n",
       "╞════════════╪═════════════╪══════════╪══════════╪═══╪═══════════╪═══════════╪═══════╪══════════╡\n",
       "│ count      ┆ 891.0       ┆ 891.0    ┆ 891.0    ┆ … ┆ 891       ┆ 891.0     ┆ 891   ┆ 891      │\n",
       "│ null_count ┆ 0.0         ┆ 0.0      ┆ 0.0      ┆ … ┆ 0         ┆ 0.0       ┆ 687   ┆ 2        │\n",
       "│ mean       ┆ 446.0       ┆ 0.383838 ┆ 2.308642 ┆ … ┆ null      ┆ 32.204208 ┆ null  ┆ null     │\n",
       "│ std        ┆ 257.353842  ┆ 0.486592 ┆ 0.836071 ┆ … ┆ null      ┆ 49.693429 ┆ null  ┆ null     │\n",
       "│ min        ┆ 1.0         ┆ 0.0      ┆ 1.0      ┆ … ┆ 110152    ┆ 0.0       ┆ A10   ┆ C        │\n",
       "│ 25%        ┆ 223.0       ┆ 0.0      ┆ 2.0      ┆ … ┆ null      ┆ 7.8958    ┆ null  ┆ null     │\n",
       "│ 50%        ┆ 446.0       ┆ 0.0      ┆ 3.0      ┆ … ┆ null      ┆ 14.4542   ┆ null  ┆ null     │\n",
       "│ 75%        ┆ 669.0       ┆ 1.0      ┆ 3.0      ┆ … ┆ null      ┆ 31.0      ┆ null  ┆ null     │\n",
       "│ max        ┆ 891.0       ┆ 1.0      ┆ 3.0      ┆ … ┆ WE/P 5735 ┆ 512.3292  ┆ T     ┆ S        │\n",
       "└────────────┴─────────────┴──────────┴──────────┴───┴───────────┴───────────┴───────┴──────────┘"
      ]
     },
     "execution_count": 63,
     "metadata": {},
     "output_type": "execute_result"
    }
   ],
   "source": [
    "# train_explore.head()\n",
    "train_explore.describe()"
   ]
  },
  {
   "cell_type": "code",
   "execution_count": 108,
   "metadata": {},
   "outputs": [
    {
     "data": {
      "text/html": [
       "<div><style>\n",
       ".dataframe > thead > tr > th,\n",
       ".dataframe > tbody > tr > td {\n",
       "  text-align: right;\n",
       "}\n",
       "</style>\n",
       "<small>shape: (5, 2)</small><table border=\"1\" class=\"dataframe\"><thead><tr><th>Ticket</th><th>cabincount</th></tr><tr><td>str</td><td>u32</td></tr></thead><tbody><tr><td>&quot;13502&quot;</td><td>3</td></tr><tr><td>&quot;110465&quot;</td><td>2</td></tr><tr><td>&quot;PC 17760&quot;</td><td>3</td></tr><tr><td>&quot;PC 17582&quot;</td><td>2</td></tr><tr><td>&quot;PC 17572&quot;</td><td>2</td></tr></tbody></table></div>"
      ],
      "text/plain": [
       "shape: (5, 2)\n",
       "┌──────────┬────────────┐\n",
       "│ Ticket   ┆ cabincount │\n",
       "│ ---      ┆ ---        │\n",
       "│ str      ┆ u32        │\n",
       "╞══════════╪════════════╡\n",
       "│ 13502    ┆ 3          │\n",
       "│ 110465   ┆ 2          │\n",
       "│ PC 17760 ┆ 3          │\n",
       "│ PC 17582 ┆ 2          │\n",
       "│ PC 17572 ┆ 2          │\n",
       "└──────────┴────────────┘"
      ]
     },
     "metadata": {},
     "output_type": "display_data"
    },
    {
     "data": {
      "text/html": [
       "<div><style>\n",
       ".dataframe > thead > tr > th,\n",
       ".dataframe > tbody > tr > td {\n",
       "  text-align: right;\n",
       "}\n",
       "</style>\n",
       "<small>shape: (4, 12)</small><table border=\"1\" class=\"dataframe\"><thead><tr><th>PassengerId</th><th>Survived</th><th>Pclass</th><th>Name</th><th>Sex</th><th>Age</th><th>SibSp</th><th>Parch</th><th>Ticket</th><th>Fare</th><th>Cabin</th><th>Embarked</th></tr><tr><td>i64</td><td>i64</td><td>i64</td><td>str</td><td>str</td><td>f64</td><td>i64</td><td>i64</td><td>str</td><td>f64</td><td>str</td><td>str</td></tr></thead><tbody><tr><td>307</td><td>1</td><td>1</td><td>&quot;Fleming, Miss.…</td><td>&quot;female&quot;</td><td>null</td><td>0</td><td>0</td><td>&quot;17421&quot;</td><td>110.8833</td><td>null</td><td>&quot;C&quot;</td></tr><tr><td>551</td><td>1</td><td>1</td><td>&quot;Thayer, Mr. Jo…</td><td>&quot;male&quot;</td><td>17.0</td><td>0</td><td>2</td><td>&quot;17421&quot;</td><td>110.8833</td><td>&quot;C70&quot;</td><td>&quot;C&quot;</td></tr><tr><td>582</td><td>1</td><td>1</td><td>&quot;Thayer, Mrs. J…</td><td>&quot;female&quot;</td><td>39.0</td><td>1</td><td>1</td><td>&quot;17421&quot;</td><td>110.8833</td><td>&quot;C68&quot;</td><td>&quot;C&quot;</td></tr><tr><td>699</td><td>0</td><td>1</td><td>&quot;Thayer, Mr. Jo…</td><td>&quot;male&quot;</td><td>49.0</td><td>1</td><td>1</td><td>&quot;17421&quot;</td><td>110.8833</td><td>&quot;C68&quot;</td><td>&quot;C&quot;</td></tr></tbody></table></div>"
      ],
      "text/plain": [
       "shape: (4, 12)\n",
       "┌─────────────┬──────────┬────────┬─────────────────────┬───┬────────┬──────────┬───────┬──────────┐\n",
       "│ PassengerId ┆ Survived ┆ Pclass ┆ Name                ┆ … ┆ Ticket ┆ Fare     ┆ Cabin ┆ Embarked │\n",
       "│ ---         ┆ ---      ┆ ---    ┆ ---                 ┆   ┆ ---    ┆ ---      ┆ ---   ┆ ---      │\n",
       "│ i64         ┆ i64      ┆ i64    ┆ str                 ┆   ┆ str    ┆ f64      ┆ str   ┆ str      │\n",
       "╞═════════════╪══════════╪════════╪═════════════════════╪═══╪════════╪══════════╪═══════╪══════════╡\n",
       "│ 307         ┆ 1        ┆ 1      ┆ Fleming, Miss.      ┆ … ┆ 17421  ┆ 110.8833 ┆ null  ┆ C        │\n",
       "│             ┆          ┆        ┆ Margaret            ┆   ┆        ┆          ┆       ┆          │\n",
       "│ 551         ┆ 1        ┆ 1      ┆ Thayer, Mr. John    ┆ … ┆ 17421  ┆ 110.8833 ┆ C70   ┆ C        │\n",
       "│             ┆          ┆        ┆ Borland Jr          ┆   ┆        ┆          ┆       ┆          │\n",
       "│ 582         ┆ 1        ┆ 1      ┆ Thayer, Mrs. John   ┆ … ┆ 17421  ┆ 110.8833 ┆ C68   ┆ C        │\n",
       "│             ┆          ┆        ┆ Borland (Maria…     ┆   ┆        ┆          ┆       ┆          │\n",
       "│ 699         ┆ 0        ┆ 1      ┆ Thayer, Mr. John    ┆ … ┆ 17421  ┆ 110.8833 ┆ C68   ┆ C        │\n",
       "│             ┆          ┆        ┆ Borland             ┆   ┆        ┆          ┆       ┆          │\n",
       "└─────────────┴──────────┴────────┴─────────────────────┴───┴────────┴──────────┴───────┴──────────┘"
      ]
     },
     "execution_count": 108,
     "metadata": {},
     "output_type": "execute_result"
    }
   ],
   "source": [
    "'''\n",
    "Name\n",
    "Ticket\n",
    "Cabin\n",
    "'''\n",
    "(\n",
    "    train_explore\n",
    "    .select(\n",
    "        pl.col('Name').str.split(by=', ').apply(lambda x: x[0]).alias('LastName'),\n",
    "        pl.col('Name').str.split(by=', ').apply(lambda x: x[1]).str.split(by=' ').apply(lambda x: x[0]).alias('Honorific')\n",
    "    )\n",
    ")\n",
    "\n",
    "# train_explore.select('Name', pl.col('Ticket')).sort('Ticket').head(5)\n",
    "\n",
    "# train_explore.select('Cabin', pl.col('Ticket')).sort('Cabin').head(5)\n",
    "# train_explore.groupby('Cabin').agg(pl.n_unique('PassengerId').alias('counts')).sort('counts', descending=True)\n",
    "# train_explore.filter(pl.col('Cabin')=='C23 C25 C27')\n",
    "# display(train_explore.groupby('Ticket').agg(pl.n_unique('Cabin').alias('cabincount')).filter(pl.col('cabincount') > 1).head(5))\n",
    "# train_explore.filter(pl.col('Ticket') == '17421')"
   ]
  },
  {
   "cell_type": "code",
   "execution_count": 57,
   "metadata": {},
   "outputs": [],
   "source": [
    "def get_features_to_outcome_effect(df: pl.DataFrame, group_cols: list[str], outcome_col: str) -> None:\n",
    "    for col in group_cols:\n",
    "        if df[col].dtype in [pl.Float32, pl.Float64]:\n",
    "            df = (\n",
    "                df\n",
    "                .with_columns(pl.col(col).qcut(5).alias(col))\n",
    "            )\n",
    "    return df.groupby(group_cols).agg(pl.mean(outcome_col)).sort(group_cols, descending=False)\n",
    "\n",
    "# single_variable_relation_to_outcome(train_explore, ['Sex'], 'Survived')\n",
    "# single_variable_relation_to_outcome(train_explore, ['Pclass'], 'Survived')\n",
    "# single_variable_relation_to_outcome(train_explore, ['Age'], 'Survived')\n",
    "# single_variable_relation_to_outcome(train_explore, ['SibSp'], 'Survived')\n",
    "# single_variable_relation_to_outcome(train_explore, ['Parch'], 'Survived')\n",
    "# single_variable_relation_to_outcome(train_explore, ['Fare'], 'Survived')\n",
    "# single_variable_relation_to_outcome(train_explore, ['Embarked'], 'Survived')"
   ]
  },
  {
   "cell_type": "markdown",
   "metadata": {},
   "source": [
    "## Transform data"
   ]
  },
  {
   "cell_type": "code",
   "execution_count": 109,
   "metadata": {},
   "outputs": [],
   "source": [
    "from sklearn.pipeline import Pipeline\n",
    "train_transformed = train.clone()"
   ]
  },
  {
   "cell_type": "code",
   "execution_count": 118,
   "metadata": {},
   "outputs": [
    {
     "data": {
      "text/plain": [
       "array([[ 3.03954967,  0.87243213],\n",
       "       [ 5.72586357, -0.46312679]])"
      ]
     },
     "execution_count": 118,
     "metadata": {},
     "output_type": "execute_result"
    }
   ],
   "source": [
    "from sklearn.pipeline import Pipeline, FeatureUnion\n",
    "\n",
    "from sklearn.decomposition import PCA, TruncatedSVD\n",
    "union = FeatureUnion([\n",
    "    (\"pca\", PCA(n_components=1)),\n",
    "    (\"svd\", TruncatedSVD(n_components=2))\n",
    "])\n",
    "X = [[0., 1., 3], [2., 2., 5]]\n",
    "union.fit_transform(X)"
   ]
  },
  {
   "cell_type": "code",
   "execution_count": null,
   "metadata": {},
   "outputs": [],
   "source": []
  }
 ],
 "metadata": {
  "kernelspec": {
   "display_name": "kaggle",
   "language": "python",
   "name": "python3"
  },
  "language_info": {
   "codemirror_mode": {
    "name": "ipython",
    "version": 3
   },
   "file_extension": ".py",
   "mimetype": "text/x-python",
   "name": "python",
   "nbconvert_exporter": "python",
   "pygments_lexer": "ipython3",
   "version": "3.10.4"
  },
  "orig_nbformat": 4
 },
 "nbformat": 4,
 "nbformat_minor": 2
}
