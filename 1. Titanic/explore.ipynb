{
 "cells": [
  {
   "cell_type": "markdown",
   "metadata": {},
   "source": [
    "## Init"
   ]
  },
  {
   "cell_type": "code",
   "execution_count": 45,
   "metadata": {},
   "outputs": [],
   "source": [
    "import numpy as np\n",
    "import polars as pl\n",
    "import pandas as pd\n",
    "import pyarrow as pa\n",
    "import matplotlib.pyplot as plt\n",
    "\n",
    "from abc import ABCMeta, abstractmethod\n",
    "from dataclasses import dataclass\n",
    "from sklearn.model_selection import train_test_split\n",
    "import pandas as pd\n",
    "import pyarrow as pa\n",
    "from typing import Callable\n",
    "import re\n",
    "\n",
    "from utils.baseclass import Dataset\n",
    "from utils.data import TitanicDataset\n",
    "from utils.decorators import PolarsCompatibleTransformer\n",
    "from utils.transformers import MakeNameFeatures, TransformColToCategorical, TransformStringColToNumeric, TransformColToBins, DropColumns, AddFamilyUnitID, AddSurvivalRate, CleanCabin, FillNull, AddRandomColumn, CleanHonorific, MakeNameFeatures, CleanAge, PipelineCompatibleCatBoostClassifier, CleanFare\n",
    "\n",
    "from sklearn.preprocessing import LabelEncoder\n",
    "from sklearn.metrics import accuracy_score\n",
    "\n",
    "from xgboost import XGBClassifier\n",
    "import xgboost as xgb\n",
    "\n",
    "from catboost import CatBoostClassifier"
   ]
  },
  {
   "cell_type": "code",
   "execution_count": 46,
   "metadata": {},
   "outputs": [],
   "source": [
    "DATAPATH = './data'\n",
    "train = pl.read_csv(f'{DATAPATH}/train.csv')\n",
    "test = pl.read_csv(f'{DATAPATH}/test.csv')\n",
    "submission_sample = pl.read_csv(f'{DATAPATH}/gender_submission.csv')"
   ]
  },
  {
   "cell_type": "code",
   "execution_count": 47,
   "metadata": {},
   "outputs": [
    {
     "name": "stdout",
     "output_type": "stream",
     "text": [
      "The autoreload extension is already loaded. To reload it, use:\n",
      "  %reload_ext autoreload\n"
     ]
    }
   ],
   "source": [
    "%load_ext autoreload\n",
    "%autoreload 2\n",
    "\n",
    "pl.Config.set_tbl_formatting(\"UTF8_FULL_CONDENSED\")\n",
    "pl.Config.set_tbl_width_chars(175)\n",
    "pl.Config.set_tbl_cols(99)\n",
    "\n",
    "pd.options.display.max_columns = None\n",
    "pd.options.display.max_rows = None"
   ]
  },
  {
   "cell_type": "code",
   "execution_count": 48,
   "metadata": {},
   "outputs": [],
   "source": [
    "# display(train.head())\n",
    "# display(train_transformed.X.head())"
   ]
  },
  {
   "cell_type": "markdown",
   "metadata": {},
   "source": [
    "## Data Exploration"
   ]
  },
  {
   "cell_type": "code",
   "execution_count": null,
   "metadata": {},
   "outputs": [],
   "source": [
    "train_explore = train.clone()"
   ]
  },
  {
   "cell_type": "code",
   "execution_count": null,
   "metadata": {},
   "outputs": [],
   "source": [
    "# train_explore.head()\n",
    "train_explore.describe()"
   ]
  },
  {
   "cell_type": "code",
   "execution_count": null,
   "metadata": {},
   "outputs": [],
   "source": [
    "'''\n",
    "Name\n",
    "Ticket\n",
    "Cabin\n",
    "'''\n",
    "(\n",
    "    train_explore\n",
    "    .select(\n",
    "        '*',\n",
    "        pl.col('Name').str.split(by=', ').apply(lambda x: x[0]).alias('LastName'),\n",
    "        pl.col('Name').str.split(by=', ').apply(lambda x: x[1]).str.split(by=' ').apply(lambda x: x[0]).alias('Honorific')\n",
    "    )\n",
    ")\n",
    "\n",
    "# train_explore.select('Name', pl.col('Ticket')).sort('Ticket').head(5)\n",
    "\n",
    "# train_explore.select('Cabin', pl.col('Ticket')).sort('Cabin').head(5)\n",
    "# train_explore.groupby('Cabin').agg(pl.n_unique('PassengerId').alias('counts')).sort('counts', descending=True)\n",
    "# train_explore.filter(pl.col('Cabin')=='C23 C25 C27')\n",
    "# display(train_explore.groupby('Ticket').agg(pl.n_unique('Cabin').alias('cabincount')).filter(pl.col('cabincount') > 1).head(5))\n",
    "# train_explore.filter(pl.col('Ticket') == '17421')"
   ]
  },
  {
   "cell_type": "code",
   "execution_count": null,
   "metadata": {},
   "outputs": [],
   "source": [
    "def get_features_to_outcome_effect(df: pl.DataFrame, group_cols: list[str], outcome_col: str) -> None:\n",
    "    for col in group_cols:\n",
    "        if df[col].dtype in [pl.Float32, pl.Float64]:\n",
    "            df = (\n",
    "                df\n",
    "                .with_columns(pl.col(col).qcut(5).alias(col))\n",
    "            )\n",
    "    return df.groupby(group_cols).agg(pl.mean(outcome_col)).sort(group_cols, descending=False)\n",
    "\n",
    "# single_variable_relation_to_outcome(train_explore, ['Sex'], 'Survived')\n",
    "# single_variable_relation_to_outcome(train_explore, ['Pclass'], 'Survived')\n",
    "# single_variable_relation_to_outcome(train_explore, ['Age'], 'Survived')\n",
    "# single_variable_relation_to_outcome(train_explore, ['SibSp'], 'Survived')\n",
    "# single_variable_relation_to_outcome(train_explore, ['Parch'], 'Survived')\n",
    "# single_variable_relation_to_outcome(train_explore, ['Fare'], 'Survived')\n",
    "# single_variable_relation_to_outcome(train_explore, ['Embarked'], 'Survived')"
   ]
  },
  {
   "cell_type": "markdown",
   "metadata": {},
   "source": [
    "## Transform data"
   ]
  },
  {
   "cell_type": "code",
   "execution_count": 49,
   "metadata": {},
   "outputs": [],
   "source": [
    "from sklearn.base import BaseEstimator, TransformerMixin\n",
    "from sklearn.pipeline import Pipeline, FeatureUnion\n",
    "from sklearn.compose import ColumnTransformer\n",
    "from sklearn.metrics import RocCurveDisplay"
   ]
  },
  {
   "cell_type": "code",
   "execution_count": 58,
   "metadata": {},
   "outputs": [
    {
     "name": "stderr",
     "output_type": "stream",
     "text": [
      "\u001b[32m2023-08-27 19:00:25.904\u001b[0m | \u001b[33m\u001b[1mWARNING \u001b[0m | \u001b[36mutils.data\u001b[0m:\u001b[36m__post_init__\u001b[0m:\u001b[36m27\u001b[0m - \u001b[33m\u001b[1mRetaining outcome column `Survived` in X. You **must** drop this before training\u001b[0m\n"
     ]
    }
   ],
   "source": [
    "PIPELINE = Pipeline([\n",
    "    ('make_name_features', MakeNameFeatures()),\n",
    "    \n",
    "    # ('transform_sex', TransformStringColToNumeric('Sex', replace_original=False)),\n",
    "    # ('transform_embarked', TransformStringColToNumeric('Embarked', replace_original=False)),\n",
    "    # # ('clean_honorific', CleanHonorific()),\n",
    "    # ('transform_honorific', TransformStringColToNumeric('Honorific', replace_original=False)),\n",
    "    # ('transform_age', TransformColToBins('Age', replace_original=False, return_numeric=True)),\n",
    "    # ('transform_fare', TransformColToBins('Fare', replace_original=False, return_numeric=True)),\n",
    "    # ('clean_cabin', CleanCabin()),\n",
    "    # ('transform_cabin', TransformStringColToNumeric('CabinFirstLetter', replace_original=False)),\n",
    "\n",
    "    ('transform_sex', TransformColToCategorical('Sex', replace_original=False)),\n",
    "    ('transform_embarked', TransformColToCategorical('Embarked', replace_original=False)),\n",
    "    ('clean_honorific', CleanHonorific()),\n",
    "    ('transform_honorific', TransformColToCategorical('Honorific', replace_original=False)),\n",
    "    \n",
    "    ('clean_fare', CleanFare()),\n",
    "    ('transform_fare', TransformColToBins('Fare', replace_original=False, return_numeric=True)),\n",
    "\n",
    "    ('clean_age', CleanAge()),\n",
    "    ('transform_age', TransformColToBins('Age', replace_original=False, return_numeric=True)),\n",
    "    \n",
    "    ('clean_cabin', CleanCabin()),\n",
    "    ('transform_cabin', TransformColToCategorical('CabinFirstLetter', replace_original=False)),\n",
    "\n",
    "    # ('add_familyid_lastname', AddFamilyUnitID(['LastName'])),\n",
    "    # ('add_survivalrate_lastname', AddSurvivalRate(['LastName'])),\n",
    "    # ('add_familyid_lastname_ticket', AddFamilyUnitID(['LastName', 'Ticket'])),\n",
    "    # ('add_survivalrate_lastname_ticket', AddSurvivalRate(['LastName', 'Ticket'])),\n",
    "    # ('add_familyid_lastname_cabin', AddFamilyUnitID(['LastName', 'Cabin'])),\n",
    "    # ('add_survivalrate_lastname_cabin', AddSurvivalRate(['LastName', 'Cabin'])),\n",
    "    \n",
    "    ('drop_unneeded_cols', DropColumns(\n",
    "        cols_to_drop=['PassengerId', 'Survived'], # + ['Pclass', 'Age', 'Parch', 'SibSp', 'Fare'],\n",
    "        regex_to_drop='groupid_*',\n",
    "        drop_strings = True\n",
    "    )),\n",
    "\n",
    "    # ('fill_nulls', FillNull(-1)),\n",
    "    \n",
    "    # ('xgbc', XGBClassifier(enable_categorical=True, tree_method='approx'))\n",
    "    # ('xgbc', XGBClassifier(random_state=123))\n",
    "    ('catboost', PipelineCompatibleCatBoostClassifier(verbose=False, random_seed=123))\n",
    "])\n",
    "train_transformed = TitanicDataset(train.clone(), 'Survived', retain_outcome_col=True, test_size=0.4)\n",
    "test_transformed = TitanicDataset(test.clone(), 'Survived')\n",
    "\n",
    "# df_clean = PIPELINE.fit_transform(X=train_transformed.xtrain, y=train_transformed.ytrain)\n",
    "# df_clean.head(3)\n",
    "# df_clean.describe(include='all')"
   ]
  },
  {
   "cell_type": "code",
   "execution_count": 59,
   "metadata": {},
   "outputs": [
    {
     "name": "stderr",
     "output_type": "stream",
     "text": [
      "/Users/yongjian.tek/.pyenv/versions/3.10.4/envs/kaggle/lib/python3.10/site-packages/sklearn/base.py:1151: DataConversionWarning: A column-vector y was passed when a 1d array was expected. Please change the shape of y to (n_samples,), for example using ravel().\n",
      "  return fit_method(estimator, *args, **kwargs)\n",
      "\u001b[32m2023-08-27 19:00:27.273\u001b[0m | \u001b[1mINFO    \u001b[0m | \u001b[36mutils.transformers\u001b[0m:\u001b[36mfit\u001b[0m:\u001b[36m216\u001b[0m - \u001b[1mString drop cols: ['Sex', 'Ticket', 'Cabin', 'Embarked', 'LastName', 'Honorific', 'CabinFirstLetter']\u001b[0m\n",
      "\u001b[32m2023-08-27 19:00:27.274\u001b[0m | \u001b[1mINFO    \u001b[0m | \u001b[36mutils.transformers\u001b[0m:\u001b[36mfit\u001b[0m:\u001b[36m220\u001b[0m - \u001b[1mSpecified drop cols: ['PassengerId', 'Survived']\u001b[0m\n",
      "\u001b[32m2023-08-27 19:00:27.274\u001b[0m | \u001b[1mINFO    \u001b[0m | \u001b[36mutils.transformers\u001b[0m:\u001b[36mfit\u001b[0m:\u001b[36m221\u001b[0m - \u001b[1mRegex drop cols: []\u001b[0m\n",
      "\u001b[32m2023-08-27 19:00:27.275\u001b[0m | \u001b[1mINFO    \u001b[0m | \u001b[36mutils.transformers\u001b[0m:\u001b[36mfit\u001b[0m:\u001b[36m222\u001b[0m - \u001b[1mString drop cols: ['Sex', 'Ticket', 'Cabin', 'Embarked', 'LastName', 'Honorific', 'CabinFirstLetter']\u001b[0m\n",
      "\u001b[32m2023-08-27 19:00:27.276\u001b[0m | \u001b[1mINFO    \u001b[0m | \u001b[36mutils.transformers\u001b[0m:\u001b[36mfit\u001b[0m:\u001b[36m223\u001b[0m - \u001b[1mDropping cols: ['CabinFirstLetter', 'Survived', 'Cabin', 'Sex', 'LastName', 'Ticket', 'Embarked', 'Honorific', 'PassengerId']\u001b[0m\n"
     ]
    }
   ],
   "source": [
    "PIPELINE.fit(X=train_transformed.xtrain, y=train_transformed.ytrain);\n",
    "# PIPELINE.transform(X=test_transformed.X).head()"
   ]
  },
  {
   "cell_type": "code",
   "execution_count": 73,
   "metadata": {},
   "outputs": [
    {
     "name": "stdout",
     "output_type": "stream",
     "text": [
      "0.8764044943820225\n",
      "0.8431372549019608\n"
     ]
    },
    {
     "data": {
      "image/png": "[encoded data removed]",
      "text/plain": [
       "<Figure size 640x480 with 1 Axes>"
      ]
     },
     "metadata": {},
     "output_type": "display_data"
    }
   ],
   "source": [
    "RocCurveDisplay.from_estimator(PIPELINE, train_transformed.xtest, train_transformed.ytest);\n",
    "print(accuracy_score(train_transformed.ytrain, PIPELINE.predict(train_transformed.xtrain)))\n",
    "print(accuracy_score(train_transformed.ytest, PIPELINE.predict(train_transformed.xtest)))"
   ]
  },
  {
   "cell_type": "code",
   "execution_count": 81,
   "metadata": {},
   "outputs": [],
   "source": [
    "manual_preds = (\n",
    "    pl.from_pandas(test_transformed.X)\n",
    "    .with_columns(\n",
    "        pl.Series(PIPELINE.predict(test_transformed.X)).alias('model_preds')\n",
    "    )\n",
    "    .with_columns(\n",
    "        pl.col('Name').str.split(\", \").apply(lambda x: x[0]).alias('LastName'),\n",
    "        pl.col('Name').str.split(\", \").apply(lambda x: x[1]).str.split('. ').apply(lambda x: x[0]).alias('Honorific')\n",
    "    )\n",
    "    .with_columns(\n",
    "        pl.when(\n",
    "            ((pl.col('Sex') == 'female') & (pl.col(\"Age\") <= 18)) | \n",
    "            (pl.col('Honorific') == 'Master')\n",
    "        ).then(\n",
    "            pl.lit(1)\n",
    "        ).otherwise(\n",
    "            # pl.col('model_preds')\n",
    "            pl.lit(0)\n",
    "        ).alias('Survived')\n",
    "    )\n",
    ")\n",
    "# manual_preds.head()\n",
    "# manual_preds.sort('Honorific', 'Sex').head(50)"
   ]
  },
  {
   "cell_type": "code",
   "execution_count": 82,
   "metadata": {},
   "outputs": [
    {
     "data": {
      "text/html": [
       "<div><style>\n",
       ".dataframe > thead > tr > th,\n",
       ".dataframe > tbody > tr > td {\n",
       "  text-align: right;\n",
       "}\n",
       "</style>\n",
       "<small>shape: (5, 2)</small><table border=\"1\" class=\"dataframe\"><thead><tr><th>PassengerId</th><th>Survived</th></tr><tr><td>i64</td><td>i32</td></tr></thead><tbody><tr><td>892</td><td>0</td></tr><tr><td>893</td><td>0</td></tr><tr><td>894</td><td>0</td></tr><tr><td>895</td><td>0</td></tr><tr><td>896</td><td>0</td></tr></tbody></table></div>"
      ],
      "text/plain": [
       "shape: (5, 2)\n",
       "┌─────────────┬──────────┐\n",
       "│ PassengerId ┆ Survived │\n",
       "│ ---         ┆ ---      │\n",
       "│ i64         ┆ i32      │\n",
       "╞═════════════╪══════════╡\n",
       "│ 892         ┆ 0        │\n",
       "│ 893         ┆ 0        │\n",
       "│ 894         ┆ 0        │\n",
       "│ 895         ┆ 0        │\n",
       "│ 896         ┆ 0        │\n",
       "└─────────────┴──────────┘"
      ]
     },
     "metadata": {},
     "output_type": "display_data"
    },
    {
     "name": "stderr",
     "output_type": "stream",
     "text": [
      "100%|██████████| 2.77k/2.77k [00:03<00:00, 777B/s]\n"
     ]
    },
    {
     "name": "stdout",
     "output_type": "stream",
     "text": [
      "Successfully submitted to Titanic - Machine Learning from Disaster"
     ]
    },
    {
     "data": {
      "text/plain": [
       "0"
      ]
     },
     "execution_count": 82,
     "metadata": {},
     "output_type": "execute_result"
    }
   ],
   "source": [
    "from datetime import datetime\n",
    "import os\n",
    "\n",
    "submission = pl.DataFrame({\n",
    "    'PassengerId': manual_preds['PassengerId'],\n",
    "    # 'Survived': PIPELINE.predict(test_transformed.X),\n",
    "    # 'Survived': np.where(test_transformed.X['Sex'] == 'female', 1, 0)\n",
    "    'Survived': manual_preds['Survived']\n",
    "})\n",
    "filename = f'''./submission/submit_{datetime.now().strftime('%Y%m%d_%H%M')}.csv'''\n",
    "display(submission.head())\n",
    "submission.write_csv(filename)\n",
    "os.system(f'''kaggle competitions submit -c titanic -f {filename} -m {filename}''')"
   ]
  },
  {
   "cell_type": "markdown",
   "metadata": {},
   "source": [
    "## TODO"
   ]
  },
  {
   "cell_type": "code",
   "execution_count": null,
   "metadata": {},
   "outputs": [],
   "source": [
    "# Basic prediction: Predict men die, women live\n",
    "# Basic prediction: Women live. Men who are \"master\" live. All else die\n",
    "\n",
    "# Remove correlated features?\n",
    "# Model tuning\n",
    "# Stacking models\n",
    "# Ensembling models"
   ]
  }
 ],
 "metadata": {
  "kernelspec": {
   "display_name": "kaggle",
   "language": "python",
   "name": "python3"
  },
  "language_info": {
   "codemirror_mode": {
    "name": "ipython",
    "version": 3
   },
   "file_extension": ".py",
   "mimetype": "text/x-python",
   "name": "python",
   "nbconvert_exporter": "python",
   "pygments_lexer": "ipython3",
   "version": "3.10.4"
  },
  "orig_nbformat": 4
 },
 "nbformat": 4,
 "nbformat_minor": 2
}
