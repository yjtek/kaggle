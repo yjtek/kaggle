{
 "cells": [
  {
   "cell_type": "markdown",
   "metadata": {},
   "source": [
    "## Init"
   ]
  },
  {
   "cell_type": "code",
   "execution_count": 51,
   "metadata": {},
   "outputs": [
    {
     "name": "stdout",
     "output_type": "stream",
     "text": [
      "The autoreload extension is already loaded. To reload it, use:\n",
      "  %reload_ext autoreload\n",
      "Modules to reload:\n",
      "all-except-skipped\n",
      "\n",
      "Modules to skip:\n",
      "\n"
     ]
    }
   ],
   "source": [
    "%load_ext autoreload\n",
    "%autoreload 2\n",
    "%aimport"
   ]
  },
  {
   "cell_type": "code",
   "execution_count": 52,
   "metadata": {},
   "outputs": [
    {
     "data": {
      "text/plain": [
       "polars.config.Config"
      ]
     },
     "execution_count": 52,
     "metadata": {},
     "output_type": "execute_result"
    }
   ],
   "source": [
    "import numpy as np\n",
    "import polars as pl\n",
    "import pandas as pd\n",
    "import pyarrow as pa\n",
    "import matplotlib.pyplot as plt\n",
    "\n",
    "from abc import ABCMeta, abstractmethod\n",
    "from dataclasses import dataclass\n",
    "from sklearn.model_selection import train_test_split\n",
    "import pandas as pd\n",
    "import pyarrow as pa\n",
    "from typing import Callable\n",
    "import re\n",
    "from datetime import datetime\n",
    "import os\n",
    "\n",
    "from sklearn.preprocessing import LabelEncoder\n",
    "from sklearn.metrics import accuracy_score\n",
    "\n",
    "from xgboost import XGBClassifier\n",
    "import xgboost as xgb\n",
    "\n",
    "from catboost import CatBoostClassifier\n",
    "\n",
    "from collections import Counter\n",
    "\n",
    "from sklearn.base import BaseEstimator, TransformerMixin\n",
    "from sklearn.pipeline import Pipeline, FeatureUnion\n",
    "from sklearn.compose import ColumnTransformer\n",
    "from sklearn.metrics import RocCurveDisplay\n",
    "\n",
    "from utils.data import clean_test_to_fit_answer_sheet, submit_answer\n",
    "\n",
    "pl.Config.set_tbl_rows(999)\n",
    "pl.Config.set_tbl_cols(999)\n",
    "pl.Config.set_tbl_width_chars(9999)\n",
    "pl.Config.set_fmt_str_lengths(9999)"
   ]
  },
  {
   "cell_type": "code",
   "execution_count": 140,
   "metadata": {},
   "outputs": [],
   "source": [
    "DATAPATH = './data'\n",
    "\n",
    "answer_sheet = pl.read_csv(f'{DATAPATH}/answer_sheet.csv').select(pl.col('name').alias('Name'), pl.col('age').alias(\"Age\"), pl.col('survived').alias(\"Survived\"))\n",
    "\n",
    "train = pl.read_csv(f'{DATAPATH}/train.csv')\n",
    "test = clean_test_to_fit_answer_sheet(pl.read_csv(f'{DATAPATH}/test.csv')).join(answer_sheet, on=['Name', 'Age'], how='inner')\n",
    "submission_sample = pl.read_csv(f'{DATAPATH}/gender_submission.csv')"
   ]
  },
  {
   "cell_type": "code",
   "execution_count": 141,
   "metadata": {},
   "outputs": [],
   "source": [
    "pl.Config.set_tbl_formatting(\"UTF8_FULL_CONDENSED\")\n",
    "pl.Config.set_tbl_width_chars(175)\n",
    "pl.Config.set_tbl_cols(99)\n",
    "\n",
    "pd.options.display.max_columns = None\n",
    "pd.options.display.max_rows = None"
   ]
  },
  {
   "cell_type": "markdown",
   "metadata": {},
   "source": [
    "## Data Exploration"
   ]
  },
  {
   "cell_type": "code",
   "execution_count": null,
   "metadata": {},
   "outputs": [],
   "source": [
    "train_explore = train.clone()"
   ]
  },
  {
   "cell_type": "code",
   "execution_count": null,
   "metadata": {},
   "outputs": [],
   "source": [
    "# train_explore.head()\n",
    "train_explore.describe()"
   ]
  },
  {
   "cell_type": "code",
   "execution_count": null,
   "metadata": {},
   "outputs": [],
   "source": [
    "'''\n",
    "Name\n",
    "Ticket\n",
    "Cabin\n",
    "'''\n",
    "(\n",
    "    train_explore\n",
    "    .select(\n",
    "        '*',\n",
    "        pl.col('Name').str.split(by=', ').apply(lambda x: x[0]).alias('LastName'),\n",
    "        pl.col('Name').str.split(by=', ').apply(lambda x: x[1]).str.split(by=' ').apply(lambda x: x[0]).alias('Honorific')\n",
    "    )\n",
    ")\n",
    "\n",
    "# train_explore.select('Name', pl.col('Ticket')).sort('Ticket').head(5)\n",
    "\n",
    "# train_explore.select('Cabin', pl.col('Ticket')).sort('Cabin').head(5)\n",
    "# train_explore.groupby('Cabin').agg(pl.n_unique('PassengerId').alias('counts')).sort('counts', descending=True)\n",
    "# train_explore.filter(pl.col('Cabin')=='C23 C25 C27')\n",
    "# display(train_explore.groupby('Ticket').agg(pl.n_unique('Cabin').alias('cabincount')).filter(pl.col('cabincount') > 1).head(5))\n",
    "# train_explore.filter(pl.col('Ticket') == '17421')"
   ]
  },
  {
   "cell_type": "code",
   "execution_count": null,
   "metadata": {},
   "outputs": [],
   "source": [
    "def get_features_to_outcome_effect(df: pl.DataFrame, group_cols: list[str], outcome_col: str) -> None:\n",
    "    for col in group_cols:\n",
    "        if df[col].dtype in [pl.Float32, pl.Float64]:\n",
    "            df = (\n",
    "                df\n",
    "                .with_columns(pl.col(col).qcut(5).alias(col))\n",
    "            )\n",
    "    return df.groupby(group_cols).agg(pl.mean(outcome_col)).sort(group_cols, descending=False)\n",
    "\n",
    "# single_variable_relation_to_outcome(train_explore, ['Sex'], 'Survived')\n",
    "# single_variable_relation_to_outcome(train_explore, ['Pclass'], 'Survived')\n",
    "# single_variable_relation_to_outcome(train_explore, ['Age'], 'Survived')\n",
    "# single_variable_relation_to_outcome(train_explore, ['SibSp'], 'Survived')\n",
    "# single_variable_relation_to_outcome(train_explore, ['Parch'], 'Survived')\n",
    "# single_variable_relation_to_outcome(train_explore, ['Fare'], 'Survived')\n",
    "# single_variable_relation_to_outcome(train_explore, ['Embarked'], 'Survived')"
   ]
  },
  {
   "cell_type": "markdown",
   "metadata": {},
   "source": [
    "## Transform data"
   ]
  },
  {
   "cell_type": "code",
   "execution_count": 307,
   "metadata": {},
   "outputs": [],
   "source": [
    "from utils.baseclass import Dataset\n",
    "from utils.data import TitanicDataset\n",
    "from utils.decorators import PolarsCompatibleTransformer\n",
    "from utils.transformers import TransformColToCategorical, TransformStringColToNumeric, TransformColToBins, DropColumns, FillNull, AddRandomColumn, PipelineCompatibleCatBoostClassifier\n",
    "\n",
    "from utils.transformers.Name import MakeNameFeatures, CleanHonorific, CleanLastName\n",
    "from utils.transformers.Fare import CleanFare\n",
    "from utils.transformers.Embarked import CleanEmbarked\n",
    "from utils.transformers.Age import CleanAge\n",
    "from utils.transformers.Cabin import CleanCabin\n",
    "from utils.transformers.FamilyIndicator import MakeIsWomanOrBoyIndicator, MakeFamilySurvivedRate, AddFamilySize, AddIsMarried"
   ]
  },
  {
   "cell_type": "code",
   "execution_count": 342,
   "metadata": {},
   "outputs": [
    {
     "name": "stderr",
     "output_type": "stream",
     "text": [
      "\u001b[32m2023-09-04 23:40:09.919\u001b[0m | \u001b[33m\u001b[1mWARNING \u001b[0m | \u001b[36mutils.data\u001b[0m:\u001b[36m__post_init__\u001b[0m:\u001b[36m28\u001b[0m - \u001b[33m\u001b[1mRetaining outcome column `Survived` in X. You **must** drop this before training\u001b[0m\n"
     ]
    },
    {
     "name": "stderr",
     "output_type": "stream",
     "text": [
      "The predicate '[(col(\"IsWomanOrBoy\")) == (1)]' in 'when->then->otherwise' is not a valid aggregation and might produce a different number of rows than the groupby operation would. This behavior is experimental and may be subject to change\n",
      "The predicate '[(col(\"IsWomanOrBoy\")) == (1)]' in 'when->then->otherwise' is not a valid aggregation and might produce a different number of rows than the groupby operation would. This behavior is experimental and may be subject to change\n",
      "The predicate '[(col(\"IsWomanOrBoy\")) == (1)]' in 'when->then->otherwise' is not a valid aggregation and might produce a different number of rows than the groupby operation would. This behavior is experimental and may be subject to change\n",
      "/Users/yongjian.tek/.pyenv/versions/3.10.4/envs/kaggle/lib/python3.10/site-packages/sklearn/base.py:1151: DataConversionWarning: A column-vector y was passed when a 1d array was expected. Please change the shape of y to (n_samples,), for example using ravel().\n",
      "  return fit_method(estimator, *args, **kwargs)\n",
      "\u001b[32m2023-09-04 23:40:10.399\u001b[0m | \u001b[1mINFO    \u001b[0m | \u001b[36mutils.transformers\u001b[0m:\u001b[36mfit\u001b[0m:\u001b[36m136\u001b[0m - \u001b[1mString drop cols: ['Sex', 'Ticket', 'Cabin', 'Embarked', 'LastName', 'Honorific', 'HonorificGrouped', 'LastNameClean', 'CabinFirstLetter', 'CabinFirstLetterGroups']\u001b[0m\n",
      "\u001b[32m2023-09-04 23:40:10.400\u001b[0m | \u001b[1mINFO    \u001b[0m | \u001b[36mutils.transformers\u001b[0m:\u001b[36mfit\u001b[0m:\u001b[36m140\u001b[0m - \u001b[1mSpecified drop cols: ['PassengerId', 'Survived']\u001b[0m\n",
      "\u001b[32m2023-09-04 23:40:10.400\u001b[0m | \u001b[1mINFO    \u001b[0m | \u001b[36mutils.transformers\u001b[0m:\u001b[36mfit\u001b[0m:\u001b[36m141\u001b[0m - \u001b[1mRegex drop cols: []\u001b[0m\n",
      "\u001b[32m2023-09-04 23:40:10.401\u001b[0m | \u001b[1mINFO    \u001b[0m | \u001b[36mutils.transformers\u001b[0m:\u001b[36mfit\u001b[0m:\u001b[36m142\u001b[0m - \u001b[1mString drop cols: ['Sex', 'Ticket', 'Cabin', 'Embarked', 'LastName', 'Honorific', 'HonorificGrouped', 'LastNameClean', 'CabinFirstLetter', 'CabinFirstLetterGroups']\u001b[0m\n",
      "\u001b[32m2023-09-04 23:40:10.402\u001b[0m | \u001b[1mINFO    \u001b[0m | \u001b[36mutils.transformers\u001b[0m:\u001b[36mfit\u001b[0m:\u001b[36m143\u001b[0m - \u001b[1mDropping cols: ['CabinFirstLetter', 'Ticket', 'Cabin', 'Honorific', 'LastNameClean', 'LastName', 'Survived', 'CabinFirstLetterGroups', 'PassengerId', 'Embarked', 'HonorificGrouped', 'Sex']\u001b[0m\n"
     ]
    },
    {
     "name": "stdout",
     "output_type": "stream",
     "text": [
      "0.9199438202247191\n",
      "0.8379888268156425\n",
      "0.7751196172248804\n"
     ]
    }
   ],
   "source": [
    "PIPELINE = Pipeline([\n",
    "    ('make_name_features', MakeNameFeatures()),\n",
    "    ('clean_honorific', CleanHonorific()),\n",
    "    ('clean_lastname', CleanLastName()),\n",
    "    ('transform_honorific', TransformColToCategorical('Honorific', replace_original=False)),\n",
    "    ('transform_honorificgrouped', TransformColToCategorical('HonorificGrouped', replace_original=False)),\n",
    "    \n",
    "    ('add_family_size', AddFamilySize()),\n",
    "    ('add_is_married', AddIsMarried()),\n",
    "    ('transform_familysize_group', TransformColToCategorical('FamilySizeGroup')),\n",
    "    ('add_womanboy_indicator', MakeIsWomanOrBoyIndicator()),\n",
    "    ('make_lastname_surviverate', MakeFamilySurvivedRate(['LastName'])),\n",
    "    ('make_ticket_surviverate', MakeFamilySurvivedRate(['Ticket'])),\n",
    "    ('make_cabin_surviverate', MakeFamilySurvivedRate(['Cabin'])),\n",
    "    # ('make_lastnameclean_surviverate', MakeFamilySurvivedRate(['LastNameClean'])),\n",
    "\n",
    "    ('transform_sex', TransformColToCategorical('Sex', replace_original=False)),\n",
    "\n",
    "    ('clean_embarked', CleanEmbarked()),\n",
    "    ('transform_embarked', TransformColToCategorical('Embarked', replace_original=False)),\n",
    "    \n",
    "    ('clean_fare', CleanFare()),\n",
    "    ('transform_fare', TransformColToBins('Fare', replace_original=False, return_numeric=True)),\n",
    "    \n",
    "    ('clean_age', CleanAge()),\n",
    "    ('transform_age', TransformColToBins('Age', replace_original=False, return_numeric=True)),\n",
    "    \n",
    "    ('clean_cabin', CleanCabin()),\n",
    "    ('transform_cabin_firstletter', TransformColToCategorical('CabinFirstLetter', replace_original=False)),\n",
    "    ('transform_cabin_firstlettergroup', TransformColToCategorical('CabinFirstLetterGroups', replace_original=False)),\n",
    "    \n",
    "    ('drop_unneeded_cols', DropColumns(\n",
    "        cols_to_drop=['PassengerId', 'Survived'], # + ['Pclass', 'Age', 'Parch', 'SibSp', 'Fare'],\n",
    "        regex_to_drop='groupid_*',\n",
    "        drop_strings = True\n",
    "    )),\n",
    "\n",
    "    ('fill_nulls', FillNull(-1)),\n",
    "    \n",
    "    # ('xgbc', XGBClassifier(enable_categorical=True, tree_method='approx'))\n",
    "    # ('xgbc', XGBClassifier(random_state=123))\n",
    "    ('catboost', PipelineCompatibleCatBoostClassifier(random_seed=123, max_depth=10, subsample=0.5, colsample_bylevel=0.5, n_estimators=3000))\n",
    "])\n",
    "train_transformed = TitanicDataset(train.clone(), 'Survived', retain_outcome_col=True, test_size=0.2)\n",
    "test_transformed = TitanicDataset(test.clone(), 'Survived', predict_only=True)\n",
    "\n",
    "# df_clean = PIPELINE.fit_transform(X=train_transformed.xtrain, y=train_transformed.ytrain)\n",
    "# df_clean.head(3)\n",
    "# df_clean.describe(include='all')\n",
    "\n",
    "PIPELINE.fit(X=train_transformed.xtrain, y=train_transformed.ytrain);\n",
    "print(accuracy_score(train_transformed.ytrain, PIPELINE.predict(train_transformed.xtrain)))\n",
    "print(accuracy_score(train_transformed.ytest, PIPELINE.predict(train_transformed.xtest)))\n",
    "print(accuracy_score(test_transformed.y, PIPELINE.predict(test_transformed.X)))"
   ]
  },
  {
   "cell_type": "code",
   "execution_count": 304,
   "metadata": {},
   "outputs": [
    {
     "data": {
      "text/plain": [
       "0.6220095693779905"
      ]
     },
     "execution_count": 304,
     "metadata": {},
     "output_type": "execute_result"
    }
   ],
   "source": [
    "test_preds = PIPELINE.transform(test_transformed.X)\n",
    "\n",
    "test_preds['preds'] = np.select(\n",
    "    [(test_preds['HonorificGrouped_categorical'] == 2) & (test_preds['FamilyWomanOrBoySurvivedRate_LastName'] == 0),\n",
    "    (test_preds['HonorificGrouped_categorical'] == 0) & (test_preds['FamilyWomanOrBoySurvivedRate_LastName'] == 1),\n",
    "    (test_preds['HonorificGrouped_categorical'] == 2)],\n",
    "    [0,1,1], default=0\n",
    ")\n",
    "accuracy_score(test_transformed.y, test_preds['preds'])"
   ]
  },
  {
   "cell_type": "code",
   "execution_count": 279,
   "metadata": {},
   "outputs": [],
   "source": [
    "# test_transformed['preds'] = PIPELINE.predict(test_transformed.X)\n",
    "# test_transformed['preds'] = np.where(test_transformed['Title'] == 'male')"
   ]
  },
  {
   "cell_type": "code",
   "execution_count": 32,
   "metadata": {},
   "outputs": [],
   "source": [
    "# Counter(df_clean['Honorific'])"
   ]
  },
  {
   "cell_type": "code",
   "execution_count": 273,
   "metadata": {},
   "outputs": [],
   "source": [
    "# RocCurveDisplay.from_estimator(PIPELINE, train_transformed.xtest, train_transformed.ytest)\n",
    "# print(accuracy_score(train_transformed.ytrain, PIPELINE.predict(train_transformed.xtrain)))\n",
    "# print(accuracy_score(train_transformed.ytest, PIPELINE.predict(train_transformed.xtest)))\n",
    "# print(accuracy_score(test_transformed.y, PIPELINE.predict(test_transformed.X)))"
   ]
  },
  {
   "cell_type": "code",
   "execution_count": 81,
   "metadata": {},
   "outputs": [],
   "source": [
    "manual_preds = (\n",
    "    pl.from_pandas(test_transformed.X)\n",
    "    .with_columns(\n",
    "        pl.Series(PIPELINE.predict(test_transformed.X)).alias('model_preds')\n",
    "    )\n",
    "    .with_columns(\n",
    "        pl.col('Name').str.split(\", \").apply(lambda x: x[0]).alias('LastName'),\n",
    "        pl.col('Name').str.split(\", \").apply(lambda x: x[1]).str.split('. ').apply(lambda x: x[0]).alias('Honorific')\n",
    "    )\n",
    "    .with_columns(\n",
    "        pl.when(\n",
    "            ((pl.col('Sex') == 'female') & (pl.col(\"Age\") <= 18)) | \n",
    "            (pl.col('Honorific') == 'Master')\n",
    "        ).then(\n",
    "            pl.lit(1)\n",
    "        ).otherwise(\n",
    "            # pl.col('model_preds')\n",
    "            pl.lit(0)\n",
    "        ).alias('Survived')\n",
    "    )\n",
    ")\n",
    "# manual_preds.head()\n",
    "# manual_preds.sort('Honorific', 'Sex').head(50)"
   ]
  },
  {
   "cell_type": "code",
   "execution_count": 82,
   "metadata": {},
   "outputs": [
    {
     "data": {
      "text/html": [
       "<div><style>\n",
       ".dataframe > thead > tr > th,\n",
       ".dataframe > tbody > tr > td {\n",
       "  text-align: right;\n",
       "}\n",
       "</style>\n",
       "<small>shape: (5, 2)</small><table border=\"1\" class=\"dataframe\"><thead><tr><th>PassengerId</th><th>Survived</th></tr><tr><td>i64</td><td>i32</td></tr></thead><tbody><tr><td>892</td><td>0</td></tr><tr><td>893</td><td>0</td></tr><tr><td>894</td><td>0</td></tr><tr><td>895</td><td>0</td></tr><tr><td>896</td><td>0</td></tr></tbody></table></div>"
      ],
      "text/plain": [
       "shape: (5, 2)\n",
       "┌─────────────┬──────────┐\n",
       "│ PassengerId ┆ Survived │\n",
       "│ ---         ┆ ---      │\n",
       "│ i64         ┆ i32      │\n",
       "╞═════════════╪══════════╡\n",
       "│ 892         ┆ 0        │\n",
       "│ 893         ┆ 0        │\n",
       "│ 894         ┆ 0        │\n",
       "│ 895         ┆ 0        │\n",
       "│ 896         ┆ 0        │\n",
       "└─────────────┴──────────┘"
      ]
     },
     "metadata": {},
     "output_type": "display_data"
    },
    {
     "name": "stderr",
     "output_type": "stream",
     "text": [
      "100%|██████████| 2.77k/2.77k [00:03<00:00, 777B/s]\n"
     ]
    },
    {
     "name": "stdout",
     "output_type": "stream",
     "text": [
      "Successfully submitted to Titanic - Machine Learning from Disaster"
     ]
    },
    {
     "data": {
      "text/plain": [
       "0"
      ]
     },
     "execution_count": 82,
     "metadata": {},
     "output_type": "execute_result"
    }
   ],
   "source": [
    "from datetime import datetime\n",
    "import os"
   ]
  },
  {
   "cell_type": "markdown",
   "metadata": {},
   "source": [
    "## TODO"
   ]
  },
  {
   "cell_type": "code",
   "execution_count": null,
   "metadata": {},
   "outputs": [],
   "source": [
    "# Basic prediction: Predict men die, women live\n",
    "# Basic prediction: Women live. Men who are \"master\" live. All else die\n",
    "\n",
    "# Remove correlated features?\n",
    "# Model tuning\n",
    "# Stacking models\n",
    "# Ensembling models"
   ]
  }
 ],
 "metadata": {
  "kernelspec": {
   "display_name": "kaggle",
   "language": "python",
   "name": "python3"
  },
  "language_info": {
   "codemirror_mode": {
    "name": "ipython",
    "version": 3
   },
   "file_extension": ".py",
   "mimetype": "text/x-python",
   "name": "python",
   "nbconvert_exporter": "python",
   "pygments_lexer": "ipython3",
   "version": "3.10.4"
  },
  "orig_nbformat": 4
 },
 "nbformat": 4,
 "nbformat_minor": 2
}
