{
 "cells": [
  {
   "cell_type": "code",
   "execution_count": 5,
   "metadata": {},
   "outputs": [],
   "source": [
    "import polars as pl"
   ]
  },
  {
   "cell_type": "code",
   "execution_count": 42,
   "metadata": {},
   "outputs": [],
   "source": [
    "# pl.Config.set_fmt_str_lengths(100)"
   ]
  },
  {
   "attachments": {},
   "cell_type": "markdown",
   "metadata": {},
   "source": [
    "# Get data"
   ]
  },
  {
   "cell_type": "code",
   "execution_count": 6,
   "metadata": {},
   "outputs": [],
   "source": [
    "path = '../data'\n",
    "calendar = pl.read_csv(f'{path}/calendar.csv')\n",
    "sales_train_evaluation = pl.read_csv(f'{path}/sales_train_evaluation.csv')\n",
    "sales_train_validation = pl.read_csv(f'{path}/sales_train_validation.csv')\n",
    "sell_prices = pl.read_csv(f'{path}/sell_prices.csv')"
   ]
  },
  {
   "attachments": {},
   "cell_type": "markdown",
   "metadata": {},
   "source": [
    "# Explore data"
   ]
  },
  {
   "cell_type": "code",
   "execution_count": 43,
   "metadata": {},
   "outputs": [
    {
     "name": "stdout",
     "output_type": "stream",
     "text": [
      "(6841121, 4)\n"
     ]
    },
    {
     "data": {
      "text/html": [
       "<div><style>\n",
       ".dataframe > thead > tr > th,\n",
       ".dataframe > tbody > tr > td {\n",
       "  text-align: right;\n",
       "}\n",
       "</style>\n",
       "<small>shape: (1, 4)</small><table border=\"1\" class=\"dataframe\"><thead><tr><th>store_id</th><th>item_id</th><th>wm_yr_wk</th><th>sell_price</th></tr><tr><td>str</td><td>str</td><td>i64</td><td>f64</td></tr></thead><tbody><tr><td>&quot;CA_1&quot;</td><td>&quot;HOBBIES_1_001&quot;</td><td>11325</td><td>9.58</td></tr></tbody></table></div>"
      ],
      "text/plain": [
       "shape: (1, 4)\n",
       "┌──────────┬───────────────┬──────────┬────────────┐\n",
       "│ store_id ┆ item_id       ┆ wm_yr_wk ┆ sell_price │\n",
       "│ ---      ┆ ---           ┆ ---      ┆ ---        │\n",
       "│ str      ┆ str           ┆ i64      ┆ f64        │\n",
       "╞══════════╪═══════════════╪══════════╪════════════╡\n",
       "│ CA_1     ┆ HOBBIES_1_001 ┆ 11325    ┆ 9.58       │\n",
       "└──────────┴───────────────┴──────────┴────────────┘"
      ]
     },
     "execution_count": 43,
     "metadata": {},
     "output_type": "execute_result"
    }
   ],
   "source": [
    "print(sell_prices.shape)\n",
    "sell_prices.head(1)"
   ]
  },
  {
   "cell_type": "code",
   "execution_count": 45,
   "metadata": {},
   "outputs": [
    {
     "data": {
      "text/html": [
       "<div><style>\n",
       ".dataframe > thead > tr > th,\n",
       ".dataframe > tbody > tr > td {\n",
       "  text-align: right;\n",
       "}\n",
       "</style>\n",
       "<small>shape: (5, 1919)</small><table border=\"1\" class=\"dataframe\"><thead><tr><th>id</th><th>item_id</th><th>dept_id</th><th>cat_id</th><th>store_id</th><th>state_id</th><th>d_1</th><th>d_2</th><th>d_3</th><th>d_4</th><th>d_5</th><th>d_6</th><th>d_7</th><th>d_8</th><th>d_9</th><th>d_10</th><th>d_11</th><th>d_12</th><th>d_13</th><th>d_14</th><th>d_15</th><th>d_16</th><th>d_17</th><th>d_18</th><th>d_19</th><th>d_20</th><th>d_21</th><th>d_22</th><th>d_23</th><th>d_24</th><th>d_25</th><th>d_26</th><th>d_27</th><th>d_28</th><th>d_29</th><th>d_30</th><th>d_31</th><th>&hellip;</th><th>d_1877</th><th>d_1878</th><th>d_1879</th><th>d_1880</th><th>d_1881</th><th>d_1882</th><th>d_1883</th><th>d_1884</th><th>d_1885</th><th>d_1886</th><th>d_1887</th><th>d_1888</th><th>d_1889</th><th>d_1890</th><th>d_1891</th><th>d_1892</th><th>d_1893</th><th>d_1894</th><th>d_1895</th><th>d_1896</th><th>d_1897</th><th>d_1898</th><th>d_1899</th><th>d_1900</th><th>d_1901</th><th>d_1902</th><th>d_1903</th><th>d_1904</th><th>d_1905</th><th>d_1906</th><th>d_1907</th><th>d_1908</th><th>d_1909</th><th>d_1910</th><th>d_1911</th><th>d_1912</th><th>d_1913</th></tr><tr><td>str</td><td>str</td><td>str</td><td>str</td><td>str</td><td>str</td><td>i64</td><td>i64</td><td>i64</td><td>i64</td><td>i64</td><td>i64</td><td>i64</td><td>i64</td><td>i64</td><td>i64</td><td>i64</td><td>i64</td><td>i64</td><td>i64</td><td>i64</td><td>i64</td><td>i64</td><td>i64</td><td>i64</td><td>i64</td><td>i64</td><td>i64</td><td>i64</td><td>i64</td><td>i64</td><td>i64</td><td>i64</td><td>i64</td><td>i64</td><td>i64</td><td>i64</td><td>&hellip;</td><td>i64</td><td>i64</td><td>i64</td><td>i64</td><td>i64</td><td>i64</td><td>i64</td><td>i64</td><td>i64</td><td>i64</td><td>i64</td><td>i64</td><td>i64</td><td>i64</td><td>i64</td><td>i64</td><td>i64</td><td>i64</td><td>i64</td><td>i64</td><td>i64</td><td>i64</td><td>i64</td><td>i64</td><td>i64</td><td>i64</td><td>i64</td><td>i64</td><td>i64</td><td>i64</td><td>i64</td><td>i64</td><td>i64</td><td>i64</td><td>i64</td><td>i64</td><td>i64</td></tr></thead><tbody><tr><td>&quot;HOBBIES_1_001_CA_1_validation&quot;</td><td>&quot;HOBBIES_1_001&quot;</td><td>&quot;HOBBIES_1&quot;</td><td>&quot;HOBBIES&quot;</td><td>&quot;CA_1&quot;</td><td>&quot;CA&quot;</td><td>0</td><td>0</td><td>0</td><td>0</td><td>0</td><td>0</td><td>0</td><td>0</td><td>0</td><td>0</td><td>0</td><td>0</td><td>0</td><td>0</td><td>0</td><td>0</td><td>0</td><td>0</td><td>0</td><td>0</td><td>0</td><td>0</td><td>0</td><td>0</td><td>0</td><td>0</td><td>0</td><td>0</td><td>0</td><td>0</td><td>0</td><td>&hellip;</td><td>1</td><td>3</td><td>1</td><td>2</td><td>2</td><td>0</td><td>1</td><td>1</td><td>1</td><td>1</td><td>0</td><td>0</td><td>0</td><td>0</td><td>0</td><td>1</td><td>0</td><td>4</td><td>2</td><td>3</td><td>0</td><td>1</td><td>2</td><td>0</td><td>0</td><td>0</td><td>1</td><td>1</td><td>3</td><td>0</td><td>1</td><td>1</td><td>1</td><td>3</td><td>0</td><td>1</td><td>1</td></tr><tr><td>&quot;HOBBIES_1_002_CA_1_validation&quot;</td><td>&quot;HOBBIES_1_002&quot;</td><td>&quot;HOBBIES_1&quot;</td><td>&quot;HOBBIES&quot;</td><td>&quot;CA_1&quot;</td><td>&quot;CA&quot;</td><td>0</td><td>0</td><td>0</td><td>0</td><td>0</td><td>0</td><td>0</td><td>0</td><td>0</td><td>0</td><td>0</td><td>0</td><td>0</td><td>0</td><td>0</td><td>0</td><td>0</td><td>0</td><td>0</td><td>0</td><td>0</td><td>0</td><td>0</td><td>0</td><td>0</td><td>0</td><td>0</td><td>0</td><td>0</td><td>0</td><td>0</td><td>&hellip;</td><td>0</td><td>0</td><td>0</td><td>0</td><td>0</td><td>1</td><td>1</td><td>1</td><td>1</td><td>1</td><td>0</td><td>0</td><td>0</td><td>0</td><td>0</td><td>0</td><td>0</td><td>0</td><td>0</td><td>0</td><td>0</td><td>0</td><td>0</td><td>0</td><td>0</td><td>0</td><td>0</td><td>0</td><td>0</td><td>0</td><td>0</td><td>0</td><td>1</td><td>0</td><td>0</td><td>0</td><td>0</td></tr><tr><td>&quot;HOBBIES_1_003_CA_1_validation&quot;</td><td>&quot;HOBBIES_1_003&quot;</td><td>&quot;HOBBIES_1&quot;</td><td>&quot;HOBBIES&quot;</td><td>&quot;CA_1&quot;</td><td>&quot;CA&quot;</td><td>0</td><td>0</td><td>0</td><td>0</td><td>0</td><td>0</td><td>0</td><td>0</td><td>0</td><td>0</td><td>0</td><td>0</td><td>0</td><td>0</td><td>0</td><td>0</td><td>0</td><td>0</td><td>0</td><td>0</td><td>0</td><td>0</td><td>0</td><td>0</td><td>0</td><td>0</td><td>0</td><td>0</td><td>0</td><td>0</td><td>0</td><td>&hellip;</td><td>0</td><td>0</td><td>0</td><td>0</td><td>0</td><td>0</td><td>1</td><td>1</td><td>0</td><td>0</td><td>0</td><td>0</td><td>0</td><td>0</td><td>0</td><td>1</td><td>0</td><td>0</td><td>0</td><td>1</td><td>0</td><td>0</td><td>0</td><td>0</td><td>0</td><td>1</td><td>2</td><td>2</td><td>1</td><td>2</td><td>1</td><td>1</td><td>1</td><td>0</td><td>1</td><td>1</td><td>1</td></tr><tr><td>&quot;HOBBIES_1_004_CA_1_validation&quot;</td><td>&quot;HOBBIES_1_004&quot;</td><td>&quot;HOBBIES_1&quot;</td><td>&quot;HOBBIES&quot;</td><td>&quot;CA_1&quot;</td><td>&quot;CA&quot;</td><td>0</td><td>0</td><td>0</td><td>0</td><td>0</td><td>0</td><td>0</td><td>0</td><td>0</td><td>0</td><td>0</td><td>0</td><td>0</td><td>0</td><td>0</td><td>0</td><td>0</td><td>0</td><td>0</td><td>0</td><td>0</td><td>0</td><td>0</td><td>0</td><td>0</td><td>0</td><td>0</td><td>0</td><td>0</td><td>0</td><td>0</td><td>&hellip;</td><td>2</td><td>1</td><td>4</td><td>1</td><td>3</td><td>5</td><td>0</td><td>6</td><td>6</td><td>0</td><td>0</td><td>0</td><td>0</td><td>3</td><td>1</td><td>2</td><td>1</td><td>3</td><td>1</td><td>0</td><td>2</td><td>5</td><td>4</td><td>2</td><td>0</td><td>3</td><td>0</td><td>1</td><td>0</td><td>5</td><td>4</td><td>1</td><td>0</td><td>1</td><td>3</td><td>7</td><td>2</td></tr><tr><td>&quot;HOBBIES_1_005_CA_1_validation&quot;</td><td>&quot;HOBBIES_1_005&quot;</td><td>&quot;HOBBIES_1&quot;</td><td>&quot;HOBBIES&quot;</td><td>&quot;CA_1&quot;</td><td>&quot;CA&quot;</td><td>0</td><td>0</td><td>0</td><td>0</td><td>0</td><td>0</td><td>0</td><td>0</td><td>0</td><td>0</td><td>0</td><td>0</td><td>0</td><td>0</td><td>0</td><td>0</td><td>0</td><td>0</td><td>0</td><td>0</td><td>0</td><td>0</td><td>0</td><td>0</td><td>0</td><td>0</td><td>0</td><td>0</td><td>0</td><td>0</td><td>0</td><td>&hellip;</td><td>2</td><td>2</td><td>2</td><td>3</td><td>1</td><td>0</td><td>0</td><td>0</td><td>0</td><td>1</td><td>0</td><td>4</td><td>4</td><td>0</td><td>1</td><td>4</td><td>0</td><td>1</td><td>0</td><td>1</td><td>0</td><td>1</td><td>1</td><td>2</td><td>0</td><td>1</td><td>1</td><td>2</td><td>1</td><td>1</td><td>0</td><td>1</td><td>1</td><td>2</td><td>2</td><td>2</td><td>4</td></tr></tbody></table></div>"
      ],
      "text/plain": [
       "shape: (5, 1919)\n",
       "┌────────────────────┬───────────────┬───────────┬─────────┬───┬────────┬────────┬────────┬────────┐\n",
       "│ id                 ┆ item_id       ┆ dept_id   ┆ cat_id  ┆ … ┆ d_1910 ┆ d_1911 ┆ d_1912 ┆ d_1913 │\n",
       "│ ---                ┆ ---           ┆ ---       ┆ ---     ┆   ┆ ---    ┆ ---    ┆ ---    ┆ ---    │\n",
       "│ str                ┆ str           ┆ str       ┆ str     ┆   ┆ i64    ┆ i64    ┆ i64    ┆ i64    │\n",
       "╞════════════════════╪═══════════════╪═══════════╪═════════╪═══╪════════╪════════╪════════╪════════╡\n",
       "│ HOBBIES_1_001_CA_1 ┆ HOBBIES_1_001 ┆ HOBBIES_1 ┆ HOBBIES ┆ … ┆ 3      ┆ 0      ┆ 1      ┆ 1      │\n",
       "│ _validation        ┆               ┆           ┆         ┆   ┆        ┆        ┆        ┆        │\n",
       "│ HOBBIES_1_002_CA_1 ┆ HOBBIES_1_002 ┆ HOBBIES_1 ┆ HOBBIES ┆ … ┆ 0      ┆ 0      ┆ 0      ┆ 0      │\n",
       "│ _validation        ┆               ┆           ┆         ┆   ┆        ┆        ┆        ┆        │\n",
       "│ HOBBIES_1_003_CA_1 ┆ HOBBIES_1_003 ┆ HOBBIES_1 ┆ HOBBIES ┆ … ┆ 0      ┆ 1      ┆ 1      ┆ 1      │\n",
       "│ _validation        ┆               ┆           ┆         ┆   ┆        ┆        ┆        ┆        │\n",
       "│ HOBBIES_1_004_CA_1 ┆ HOBBIES_1_004 ┆ HOBBIES_1 ┆ HOBBIES ┆ … ┆ 1      ┆ 3      ┆ 7      ┆ 2      │\n",
       "│ _validation        ┆               ┆           ┆         ┆   ┆        ┆        ┆        ┆        │\n",
       "│ HOBBIES_1_005_CA_1 ┆ HOBBIES_1_005 ┆ HOBBIES_1 ┆ HOBBIES ┆ … ┆ 2      ┆ 2      ┆ 2      ┆ 4      │\n",
       "│ _validation        ┆               ┆           ┆         ┆   ┆        ┆        ┆        ┆        │\n",
       "└────────────────────┴───────────────┴───────────┴─────────┴───┴────────┴────────┴────────┴────────┘"
      ]
     },
     "execution_count": 45,
     "metadata": {},
     "output_type": "execute_result"
    }
   ],
   "source": [
    "sales_train_validation.head()"
   ]
  },
  {
   "cell_type": "code",
   "execution_count": 34,
   "metadata": {},
   "outputs": [
    {
     "data": {
      "text/plain": [
       "['d_1914',\n",
       " 'd_1915',\n",
       " 'd_1916',\n",
       " 'd_1917',\n",
       " 'd_1918',\n",
       " 'd_1919',\n",
       " 'd_1920',\n",
       " 'd_1921',\n",
       " 'd_1922',\n",
       " 'd_1923',\n",
       " 'd_1924',\n",
       " 'd_1925',\n",
       " 'd_1926',\n",
       " 'd_1927',\n",
       " 'd_1928',\n",
       " 'd_1929',\n",
       " 'd_1930',\n",
       " 'd_1931',\n",
       " 'd_1932',\n",
       " 'd_1933',\n",
       " 'd_1934',\n",
       " 'd_1935',\n",
       " 'd_1936',\n",
       " 'd_1937',\n",
       " 'd_1938',\n",
       " 'd_1939',\n",
       " 'd_1940',\n",
       " 'd_1941']"
      ]
     },
     "execution_count": 34,
     "metadata": {},
     "output_type": "execute_result"
    }
   ],
   "source": [
    "[col for col in sales_train_evaluationa.columns if col not in sales_train_validation.columns]"
   ]
  }
 ],
 "metadata": {
  "kernelspec": {
   "display_name": "m5-forecasting-accuracy",
   "language": "python",
   "name": "python3"
  },
  "language_info": {
   "codemirror_mode": {
    "name": "ipython",
    "version": 3
   },
   "file_extension": ".py",
   "mimetype": "text/x-python",
   "name": "python",
   "nbconvert_exporter": "python",
   "pygments_lexer": "ipython3",
   "version": "3.10.4"
  },
  "orig_nbformat": 4
 },
 "nbformat": 4,
 "nbformat_minor": 2
}
